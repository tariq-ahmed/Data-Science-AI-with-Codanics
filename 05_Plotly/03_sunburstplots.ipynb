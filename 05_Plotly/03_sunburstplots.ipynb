{
 "cells": [
  {
   "cell_type": "markdown",
   "metadata": {},
   "source": [
    "# Sunburst Plot to show the hierachy of the data"
   ]
  },
  {
   "cell_type": "code",
   "execution_count": 4,
   "metadata": {},
   "outputs": [
    {
     "name": "stderr",
     "output_type": "stream",
     "text": [
      "c:\\Users\\Tariq\\anaconda3\\envs\\python_eda\\Lib\\site-packages\\plotly\\express\\_core.py:1699: FutureWarning:\n",
      "\n",
      "The default of observed=False is deprecated and will be changed to True in a future version of pandas. Pass observed=False to retain current behavior or observed=True to adopt the future default and silence this warning.\n",
      "\n",
      "c:\\Users\\Tariq\\anaconda3\\envs\\python_eda\\Lib\\site-packages\\plotly\\express\\_core.py:1699: FutureWarning:\n",
      "\n",
      "The default of observed=False is deprecated and will be changed to True in a future version of pandas. Pass observed=False to retain current behavior or observed=True to adopt the future default and silence this warning.\n",
      "\n",
      "c:\\Users\\Tariq\\anaconda3\\envs\\python_eda\\Lib\\site-packages\\plotly\\express\\_core.py:1699: FutureWarning:\n",
      "\n",
      "The default of observed=False is deprecated and will be changed to True in a future version of pandas. Pass observed=False to retain current behavior or observed=True to adopt the future default and silence this warning.\n",
      "\n",
      "c:\\Users\\Tariq\\anaconda3\\envs\\python_eda\\Lib\\site-packages\\plotly\\express\\_core.py:1699: FutureWarning:\n",
      "\n",
      "The default of observed=False is deprecated and will be changed to True in a future version of pandas. Pass observed=False to retain current behavior or observed=True to adopt the future default and silence this warning.\n",
      "\n"
     ]
    },
    {
     "data": {
      "application/vnd.plotly.v1+json": {
       "config": {
        "plotlyServerURL": "https://plot.ly"
       },
       "data": [
        {
         "branchvalues": "total",
         "customdata": [
          [
           "female"
          ],
          [
           "female"
          ],
          [
           "male"
          ],
          [
           "male"
          ],
          [
           null
          ],
          [
           "male"
          ],
          [
           null
          ],
          [
           "female"
          ],
          [
           null
          ],
          [
           null
          ],
          [
           "female"
          ],
          [
           "male"
          ],
          [
           "female"
          ],
          [
           "female"
          ],
          [
           null
          ],
          [
           "male"
          ],
          [
           null
          ],
          [
           "female"
          ],
          [
           null
          ],
          [
           "female"
          ],
          [
           null
          ],
          [
           null
          ],
          [
           "female"
          ],
          [
           "male"
          ],
          [
           "male"
          ],
          [
           "male"
          ],
          [
           null
          ],
          [
           "male"
          ],
          [
           null
          ],
          [
           "female"
          ],
          [
           null
          ],
          [
           null
          ],
          [
           "male"
          ],
          [
           "male"
          ],
          [
           "male"
          ],
          [
           "male"
          ],
          [
           "female"
          ],
          [
           null
          ],
          [
           null
          ],
          [
           null
          ],
          [
           "female"
          ],
          [
           "male"
          ],
          [
           null
          ],
          [
           null
          ],
          [
           "female"
          ],
          [
           null
          ],
          [
           "female"
          ],
          [
           null
          ],
          [
           null
          ],
          [
           null
          ],
          [
           "female"
          ],
          [
           null
          ],
          [
           "female"
          ],
          [
           null
          ],
          [
           "female"
          ],
          [
           "male"
          ],
          [
           "male"
          ],
          [
           "male"
          ],
          [
           "male"
          ],
          [
           "female"
          ],
          [
           "male"
          ],
          [
           "female"
          ],
          [
           "male"
          ],
          [
           null
          ],
          [
           null
          ],
          [
           "female"
          ],
          [
           "male"
          ],
          [
           "female"
          ],
          [
           "male"
          ],
          [
           "male"
          ],
          [
           "female"
          ],
          [
           null
          ],
          [
           "female"
          ],
          [
           "female"
          ],
          [
           null
          ],
          [
           null
          ],
          [
           "female"
          ],
          [
           "male"
          ],
          [
           null
          ],
          [
           "male"
          ],
          [
           "female"
          ],
          [
           "male"
          ],
          [
           "female"
          ],
          [
           null
          ],
          [
           null
          ],
          [
           "male"
          ],
          [
           null
          ],
          [
           "female"
          ],
          [
           "male"
          ],
          [
           "female"
          ],
          [
           null
          ],
          [
           "male"
          ],
          [
           null
          ],
          [
           null
          ],
          [
           "male"
          ],
          [
           null
          ],
          [
           "female"
          ],
          [
           "female"
          ],
          [
           null
          ],
          [
           "male"
          ],
          [
           null
          ],
          [
           "male"
          ],
          [
           null
          ],
          [
           "male"
          ],
          [
           "female"
          ],
          [
           null
          ],
          [
           null
          ],
          [
           null
          ],
          [
           "female"
          ],
          [
           "female"
          ],
          [
           null
          ],
          [
           null
          ],
          [
           null
          ],
          [
           "female"
          ],
          [
           null
          ],
          [
           "male"
          ],
          [
           null
          ],
          [
           null
          ],
          [
           "male"
          ],
          [
           "female"
          ],
          [
           null
          ],
          [
           null
          ],
          [
           null
          ],
          [
           "female"
          ],
          [
           "female"
          ],
          [
           "female"
          ],
          [
           null
          ],
          [
           null
          ],
          [
           null
          ],
          [
           "male"
          ],
          [
           null
          ],
          [
           "male"
          ],
          [
           null
          ],
          [
           "female"
          ]
         ],
         "domain": {
          "x": [
           0,
           1
          ],
          "y": [
           0,
           1
          ]
         },
         "hovertemplate": "labels=%{label}<br>survived=%{value}<br>parent=%{parent}<br>id=%{id}<br>sex=%{customdata[0]}<extra></extra>",
         "ids": [
          "female/First/woman/yes/True",
          "female/Third/child/no/True",
          "male/Third/child/no/True",
          "male/First/man/no/True",
          "female/Second/man/no/True",
          "male/Third/man/no/True",
          "male/First/woman/no/True",
          "female/Third/woman/no/True",
          "male/Third/woman/no/True",
          "female/Second/child/yes/True",
          "female/Third/child/yes/True",
          "male/First/man/yes/True",
          "female",
          "female/Second/woman/yes/True",
          "male/Third/woman/yes/True",
          "male/First/man/no",
          "female/Third/man/no",
          "female/First/woman/no",
          "male/First/woman/no",
          "female/Third/woman/no",
          "female/Second/man/yes",
          "female/Third/man/yes",
          "female/Third/woman/yes",
          "male/First/child",
          "male/Second/child",
          "male/Third/child",
          "female/First/man",
          "male/Third/man",
          "male/Second/woman",
          "female/Second",
          "male/Second/child/no/True",
          "female/Second/child/no/True",
          "male",
          "male/Third/man/no/False",
          "male/First/child/yes/False",
          "male/Second/man/no/False",
          "female/Third/child/yes/False",
          "female/Third/man/no/False",
          "male/Second/child/no/False",
          "female/First/man/yes/False",
          "female/First/child/yes/False",
          "male/First/man/yes/False",
          "female/Second/child/no/False",
          "female/Second/man/no/False",
          "female/Second/woman/yes/False",
          "female/Third/man/yes/False",
          "female/Second/woman/no/False",
          "male/First/woman/yes/False",
          "male/First/child/no/False",
          "male/Second/woman/no/False",
          "female/First/child/yes",
          "male/Second/woman/yes",
          "female/Second/woman/yes",
          "male/First/woman/yes",
          "female/First/woman/yes",
          "male/Third/man/yes",
          "male/Second/child/yes",
          "male/Second/man/yes",
          "male/First/man/yes",
          "female/Second/child/yes",
          "male/Third/child/yes",
          "female/Third/child/yes",
          "male/First/child/yes",
          "female/First/man/yes",
          "male/Second/woman/yes/False",
          "female/First/child",
          "male/Third",
          "female/Third",
          "male/Second",
          "male/First",
          "female/First",
          "male/Third/woman",
          "female/Third/woman",
          "female/Second/woman",
          "male/First/woman",
          "male/Third/woman/yes",
          "female/First/woman",
          "male/Second/man",
          "female/Second/man",
          "male/First/man",
          "female/Third/child/no/False",
          "male/Third/child/no/False",
          "female/Third/child",
          "female/First/man/no/False",
          "male/Third/woman/no",
          "male/First/man/no/False",
          "female/Third/man",
          "female/Second/child",
          "male/Third/man/no",
          "female/Second/woman/no",
          "male/Second/child/yes/True",
          "male/Second/child/yes/False",
          "male/First/child/yes/True",
          "female/First/child/yes/True",
          "male/Third/child/yes/False",
          "male/Second/woman/no/True",
          "female/Second/woman/no/True",
          "female/First/woman/no/True",
          "female/Third/man/no/True",
          "male/Second/man/no/True",
          "female/Second/man/yes/False",
          "male/Second/man/yes/False",
          "female/First/man/no/True",
          "male/Third/man/yes/False",
          "female/First/woman/yes/False",
          "male/First/child/no/True",
          "female/First/child/no/True",
          "male/Third/woman/yes/False",
          "female/Third/woman/yes/False",
          "female/Second/child/yes/False",
          "male/Second/woman/no",
          "male/Third/child/yes/True",
          "female/Second/man/yes/True",
          "female/First/woman/no/False",
          "male/First/woman/no/False",
          "male/Second/man/no",
          "female/Second/man/no",
          "female/First/man/no",
          "male/Third/child/no",
          "female/Third/child/no",
          "male/Second/child/no",
          "female/Second/child/no",
          "male/First/child/no",
          "female/First/child/no",
          "female/Third/woman/no/False",
          "female/Third/woman/yes/True",
          "male/Second/woman/yes/True",
          "male/Third/woman/no/False",
          "male/First/woman/yes/True",
          "male/Third/man/yes/True",
          "female/Third/man/yes/True",
          "male/Second/man/yes/True",
          "female/First/man/yes/True",
          "female/First/child/no/False"
         ],
         "labels": [
          "True",
          "True",
          "True",
          "True",
          "True",
          "True",
          "True",
          "True",
          "True",
          "True",
          "True",
          "True",
          "female",
          "True",
          "True",
          "no",
          "no",
          "no",
          "no",
          "no",
          "yes",
          "yes",
          "yes",
          "child",
          "child",
          "child",
          "man",
          "man",
          "woman",
          "Second",
          "True",
          "True",
          "male",
          "False",
          "False",
          "False",
          "False",
          "False",
          "False",
          "False",
          "False",
          "False",
          "False",
          "False",
          "False",
          "False",
          "False",
          "False",
          "False",
          "False",
          "yes",
          "yes",
          "yes",
          "yes",
          "yes",
          "yes",
          "yes",
          "yes",
          "yes",
          "yes",
          "yes",
          "yes",
          "yes",
          "yes",
          "False",
          "child",
          "Third",
          "Third",
          "Second",
          "First",
          "First",
          "woman",
          "woman",
          "woman",
          "woman",
          "yes",
          "woman",
          "man",
          "man",
          "man",
          "False",
          "False",
          "child",
          "False",
          "no",
          "False",
          "man",
          "child",
          "no",
          "no",
          "True",
          "False",
          "True",
          "True",
          "False",
          "True",
          "True",
          "True",
          "True",
          "True",
          "False",
          "False",
          "True",
          "False",
          "False",
          "True",
          "True",
          "False",
          "False",
          "False",
          "no",
          "True",
          "True",
          "False",
          "False",
          "no",
          "no",
          "no",
          "no",
          "no",
          "no",
          "no",
          "no",
          "no",
          "False",
          "True",
          "True",
          "False",
          "True",
          "True",
          "True",
          "True",
          "True",
          "False"
         ],
         "marker": {
          "colors": [
           "#636efa",
           "#636efa",
           "#EF553B",
           "#EF553B",
           "#00cc96",
           "#EF553B",
           "#00cc96",
           "#636efa",
           "#00cc96",
           "#00cc96",
           "#636efa",
           "#EF553B",
           "#636efa",
           "#636efa",
           "#00cc96",
           "#EF553B",
           "#00cc96",
           "#636efa",
           "#00cc96",
           "#636efa",
           "#00cc96",
           "#00cc96",
           "#636efa",
           "#EF553B",
           "#EF553B",
           "#EF553B",
           "#00cc96",
           "#EF553B",
           "#00cc96",
           "#636efa",
           "#00cc96",
           "#00cc96",
           "#EF553B",
           "#EF553B",
           "#EF553B",
           "#EF553B",
           "#636efa",
           "#00cc96",
           "#00cc96",
           "#00cc96",
           "#636efa",
           "#EF553B",
           "#00cc96",
           "#00cc96",
           "#636efa",
           "#00cc96",
           "#636efa",
           "#00cc96",
           "#00cc96",
           "#00cc96",
           "#636efa",
           "#00cc96",
           "#636efa",
           "#00cc96",
           "#636efa",
           "#EF553B",
           "#EF553B",
           "#EF553B",
           "#EF553B",
           "#636efa",
           "#EF553B",
           "#636efa",
           "#EF553B",
           "#00cc96",
           "#00cc96",
           "#636efa",
           "#EF553B",
           "#636efa",
           "#EF553B",
           "#EF553B",
           "#636efa",
           "#00cc96",
           "#636efa",
           "#636efa",
           "#00cc96",
           "#00cc96",
           "#636efa",
           "#EF553B",
           "#00cc96",
           "#EF553B",
           "#636efa",
           "#EF553B",
           "#636efa",
           "#00cc96",
           "#00cc96",
           "#EF553B",
           "#00cc96",
           "#636efa",
           "#EF553B",
           "#636efa",
           "#00cc96",
           "#EF553B",
           "#00cc96",
           "#00cc96",
           "#EF553B",
           "#00cc96",
           "#636efa",
           "#636efa",
           "#00cc96",
           "#EF553B",
           "#00cc96",
           "#EF553B",
           "#00cc96",
           "#EF553B",
           "#636efa",
           "#00cc96",
           "#00cc96",
           "#00cc96",
           "#636efa",
           "#636efa",
           "#00cc96",
           "#00cc96",
           "#00cc96",
           "#636efa",
           "#00cc96",
           "#EF553B",
           "#00cc96",
           "#00cc96",
           "#EF553B",
           "#636efa",
           "#00cc96",
           "#00cc96",
           "#00cc96",
           "#636efa",
           "#636efa",
           "#636efa",
           "#00cc96",
           "#00cc96",
           "#00cc96",
           "#EF553B",
           "#00cc96",
           "#EF553B",
           "#00cc96",
           "#636efa"
          ]
         },
         "name": "",
         "parents": [
          "female/First/woman/yes",
          "female/Third/child/no",
          "male/Third/child/no",
          "male/First/man/no",
          "female/Second/man/no",
          "male/Third/man/no",
          "male/First/woman/no",
          "female/Third/woman/no",
          "male/Third/woman/no",
          "female/Second/child/yes",
          "female/Third/child/yes",
          "male/First/man/yes",
          "",
          "female/Second/woman/yes",
          "male/Third/woman/yes",
          "male/First/man",
          "female/Third/man",
          "female/First/woman",
          "male/First/woman",
          "female/Third/woman",
          "female/Second/man",
          "female/Third/man",
          "female/Third/woman",
          "male/First",
          "male/Second",
          "male/Third",
          "female/First",
          "male/Third",
          "male/Second",
          "female",
          "male/Second/child/no",
          "female/Second/child/no",
          "",
          "male/Third/man/no",
          "male/First/child/yes",
          "male/Second/man/no",
          "female/Third/child/yes",
          "female/Third/man/no",
          "male/Second/child/no",
          "female/First/man/yes",
          "female/First/child/yes",
          "male/First/man/yes",
          "female/Second/child/no",
          "female/Second/man/no",
          "female/Second/woman/yes",
          "female/Third/man/yes",
          "female/Second/woman/no",
          "male/First/woman/yes",
          "male/First/child/no",
          "male/Second/woman/no",
          "female/First/child",
          "male/Second/woman",
          "female/Second/woman",
          "male/First/woman",
          "female/First/woman",
          "male/Third/man",
          "male/Second/child",
          "male/Second/man",
          "male/First/man",
          "female/Second/child",
          "male/Third/child",
          "female/Third/child",
          "male/First/child",
          "female/First/man",
          "male/Second/woman/yes",
          "female/First",
          "male",
          "female",
          "male",
          "male",
          "female",
          "male/Third",
          "female/Third",
          "female/Second",
          "male/First",
          "male/Third/woman",
          "female/First",
          "male/Second",
          "female/Second",
          "male/First",
          "female/Third/child/no",
          "male/Third/child/no",
          "female/Third",
          "female/First/man/no",
          "male/Third/woman",
          "male/First/man/no",
          "female/Third",
          "female/Second",
          "male/Third/man",
          "female/Second/woman",
          "male/Second/child/yes",
          "male/Second/child/yes",
          "male/First/child/yes",
          "female/First/child/yes",
          "male/Third/child/yes",
          "male/Second/woman/no",
          "female/Second/woman/no",
          "female/First/woman/no",
          "female/Third/man/no",
          "male/Second/man/no",
          "female/Second/man/yes",
          "male/Second/man/yes",
          "female/First/man/no",
          "male/Third/man/yes",
          "female/First/woman/yes",
          "male/First/child/no",
          "female/First/child/no",
          "male/Third/woman/yes",
          "female/Third/woman/yes",
          "female/Second/child/yes",
          "male/Second/woman",
          "male/Third/child/yes",
          "female/Second/man/yes",
          "female/First/woman/no",
          "male/First/woman/no",
          "male/Second/man",
          "female/Second/man",
          "female/First/man",
          "male/Third/child",
          "female/Third/child",
          "male/Second/child",
          "female/Second/child",
          "male/First/child",
          "female/First/child",
          "female/Third/woman/no",
          "female/Third/woman/yes",
          "male/Second/woman/yes",
          "male/Third/woman/no",
          "male/First/woman/yes",
          "male/Third/man/yes",
          "female/Third/man/yes",
          "male/Second/man/yes",
          "female/First/man/yes",
          "female/First/child/no"
         ],
         "type": "sunburst",
         "values": [
          33,
          0,
          0,
          0,
          0,
          0,
          0,
          0,
          0,
          0,
          4,
          25,
          233,
          29,
          0,
          0,
          0,
          0,
          0,
          0,
          0,
          0,
          56,
          3,
          9,
          9,
          0,
          38,
          0,
          70,
          0,
          0,
          109,
          0,
          3,
          0,
          12,
          0,
          0,
          0,
          2,
          17,
          0,
          0,
          31,
          0,
          0,
          0,
          0,
          0,
          2,
          0,
          60,
          0,
          89,
          38,
          9,
          8,
          42,
          10,
          9,
          16,
          3,
          0,
          0,
          2,
          47,
          72,
          17,
          45,
          91,
          0,
          56,
          60,
          0,
          0,
          89,
          8,
          0,
          42,
          0,
          0,
          16,
          0,
          0,
          0,
          0,
          10,
          0,
          0,
          0,
          9,
          0,
          0,
          9,
          0,
          0,
          0,
          0,
          0,
          0,
          1,
          0,
          6,
          56,
          0,
          0,
          0,
          23,
          10,
          0,
          0,
          0,
          0,
          0,
          0,
          0,
          0,
          0,
          0,
          0,
          0,
          0,
          0,
          0,
          33,
          0,
          0,
          0,
          32,
          0,
          7,
          0,
          0
         ]
        }
       ],
       "layout": {
        "legend": {
         "tracegroupgap": 0
        },
        "margin": {
         "t": 60
        },
        "template": {
         "data": {
          "bar": [
           {
            "error_x": {
             "color": "#2a3f5f"
            },
            "error_y": {
             "color": "#2a3f5f"
            },
            "marker": {
             "line": {
              "color": "#E5ECF6",
              "width": 0.5
             },
             "pattern": {
              "fillmode": "overlay",
              "size": 10,
              "solidity": 0.2
             }
            },
            "type": "bar"
           }
          ],
          "barpolar": [
           {
            "marker": {
             "line": {
              "color": "#E5ECF6",
              "width": 0.5
             },
             "pattern": {
              "fillmode": "overlay",
              "size": 10,
              "solidity": 0.2
             }
            },
            "type": "barpolar"
           }
          ],
          "carpet": [
           {
            "aaxis": {
             "endlinecolor": "#2a3f5f",
             "gridcolor": "white",
             "linecolor": "white",
             "minorgridcolor": "white",
             "startlinecolor": "#2a3f5f"
            },
            "baxis": {
             "endlinecolor": "#2a3f5f",
             "gridcolor": "white",
             "linecolor": "white",
             "minorgridcolor": "white",
             "startlinecolor": "#2a3f5f"
            },
            "type": "carpet"
           }
          ],
          "choropleth": [
           {
            "colorbar": {
             "outlinewidth": 0,
             "ticks": ""
            },
            "type": "choropleth"
           }
          ],
          "contour": [
           {
            "colorbar": {
             "outlinewidth": 0,
             "ticks": ""
            },
            "colorscale": [
             [
              0,
              "#0d0887"
             ],
             [
              0.1111111111111111,
              "#46039f"
             ],
             [
              0.2222222222222222,
              "#7201a8"
             ],
             [
              0.3333333333333333,
              "#9c179e"
             ],
             [
              0.4444444444444444,
              "#bd3786"
             ],
             [
              0.5555555555555556,
              "#d8576b"
             ],
             [
              0.6666666666666666,
              "#ed7953"
             ],
             [
              0.7777777777777778,
              "#fb9f3a"
             ],
             [
              0.8888888888888888,
              "#fdca26"
             ],
             [
              1,
              "#f0f921"
             ]
            ],
            "type": "contour"
           }
          ],
          "contourcarpet": [
           {
            "colorbar": {
             "outlinewidth": 0,
             "ticks": ""
            },
            "type": "contourcarpet"
           }
          ],
          "heatmap": [
           {
            "colorbar": {
             "outlinewidth": 0,
             "ticks": ""
            },
            "colorscale": [
             [
              0,
              "#0d0887"
             ],
             [
              0.1111111111111111,
              "#46039f"
             ],
             [
              0.2222222222222222,
              "#7201a8"
             ],
             [
              0.3333333333333333,
              "#9c179e"
             ],
             [
              0.4444444444444444,
              "#bd3786"
             ],
             [
              0.5555555555555556,
              "#d8576b"
             ],
             [
              0.6666666666666666,
              "#ed7953"
             ],
             [
              0.7777777777777778,
              "#fb9f3a"
             ],
             [
              0.8888888888888888,
              "#fdca26"
             ],
             [
              1,
              "#f0f921"
             ]
            ],
            "type": "heatmap"
           }
          ],
          "heatmapgl": [
           {
            "colorbar": {
             "outlinewidth": 0,
             "ticks": ""
            },
            "colorscale": [
             [
              0,
              "#0d0887"
             ],
             [
              0.1111111111111111,
              "#46039f"
             ],
             [
              0.2222222222222222,
              "#7201a8"
             ],
             [
              0.3333333333333333,
              "#9c179e"
             ],
             [
              0.4444444444444444,
              "#bd3786"
             ],
             [
              0.5555555555555556,
              "#d8576b"
             ],
             [
              0.6666666666666666,
              "#ed7953"
             ],
             [
              0.7777777777777778,
              "#fb9f3a"
             ],
             [
              0.8888888888888888,
              "#fdca26"
             ],
             [
              1,
              "#f0f921"
             ]
            ],
            "type": "heatmapgl"
           }
          ],
          "histogram": [
           {
            "marker": {
             "pattern": {
              "fillmode": "overlay",
              "size": 10,
              "solidity": 0.2
             }
            },
            "type": "histogram"
           }
          ],
          "histogram2d": [
           {
            "colorbar": {
             "outlinewidth": 0,
             "ticks": ""
            },
            "colorscale": [
             [
              0,
              "#0d0887"
             ],
             [
              0.1111111111111111,
              "#46039f"
             ],
             [
              0.2222222222222222,
              "#7201a8"
             ],
             [
              0.3333333333333333,
              "#9c179e"
             ],
             [
              0.4444444444444444,
              "#bd3786"
             ],
             [
              0.5555555555555556,
              "#d8576b"
             ],
             [
              0.6666666666666666,
              "#ed7953"
             ],
             [
              0.7777777777777778,
              "#fb9f3a"
             ],
             [
              0.8888888888888888,
              "#fdca26"
             ],
             [
              1,
              "#f0f921"
             ]
            ],
            "type": "histogram2d"
           }
          ],
          "histogram2dcontour": [
           {
            "colorbar": {
             "outlinewidth": 0,
             "ticks": ""
            },
            "colorscale": [
             [
              0,
              "#0d0887"
             ],
             [
              0.1111111111111111,
              "#46039f"
             ],
             [
              0.2222222222222222,
              "#7201a8"
             ],
             [
              0.3333333333333333,
              "#9c179e"
             ],
             [
              0.4444444444444444,
              "#bd3786"
             ],
             [
              0.5555555555555556,
              "#d8576b"
             ],
             [
              0.6666666666666666,
              "#ed7953"
             ],
             [
              0.7777777777777778,
              "#fb9f3a"
             ],
             [
              0.8888888888888888,
              "#fdca26"
             ],
             [
              1,
              "#f0f921"
             ]
            ],
            "type": "histogram2dcontour"
           }
          ],
          "mesh3d": [
           {
            "colorbar": {
             "outlinewidth": 0,
             "ticks": ""
            },
            "type": "mesh3d"
           }
          ],
          "parcoords": [
           {
            "line": {
             "colorbar": {
              "outlinewidth": 0,
              "ticks": ""
             }
            },
            "type": "parcoords"
           }
          ],
          "pie": [
           {
            "automargin": true,
            "type": "pie"
           }
          ],
          "scatter": [
           {
            "fillpattern": {
             "fillmode": "overlay",
             "size": 10,
             "solidity": 0.2
            },
            "type": "scatter"
           }
          ],
          "scatter3d": [
           {
            "line": {
             "colorbar": {
              "outlinewidth": 0,
              "ticks": ""
             }
            },
            "marker": {
             "colorbar": {
              "outlinewidth": 0,
              "ticks": ""
             }
            },
            "type": "scatter3d"
           }
          ],
          "scattercarpet": [
           {
            "marker": {
             "colorbar": {
              "outlinewidth": 0,
              "ticks": ""
             }
            },
            "type": "scattercarpet"
           }
          ],
          "scattergeo": [
           {
            "marker": {
             "colorbar": {
              "outlinewidth": 0,
              "ticks": ""
             }
            },
            "type": "scattergeo"
           }
          ],
          "scattergl": [
           {
            "marker": {
             "colorbar": {
              "outlinewidth": 0,
              "ticks": ""
             }
            },
            "type": "scattergl"
           }
          ],
          "scattermapbox": [
           {
            "marker": {
             "colorbar": {
              "outlinewidth": 0,
              "ticks": ""
             }
            },
            "type": "scattermapbox"
           }
          ],
          "scatterpolar": [
           {
            "marker": {
             "colorbar": {
              "outlinewidth": 0,
              "ticks": ""
             }
            },
            "type": "scatterpolar"
           }
          ],
          "scatterpolargl": [
           {
            "marker": {
             "colorbar": {
              "outlinewidth": 0,
              "ticks": ""
             }
            },
            "type": "scatterpolargl"
           }
          ],
          "scatterternary": [
           {
            "marker": {
             "colorbar": {
              "outlinewidth": 0,
              "ticks": ""
             }
            },
            "type": "scatterternary"
           }
          ],
          "surface": [
           {
            "colorbar": {
             "outlinewidth": 0,
             "ticks": ""
            },
            "colorscale": [
             [
              0,
              "#0d0887"
             ],
             [
              0.1111111111111111,
              "#46039f"
             ],
             [
              0.2222222222222222,
              "#7201a8"
             ],
             [
              0.3333333333333333,
              "#9c179e"
             ],
             [
              0.4444444444444444,
              "#bd3786"
             ],
             [
              0.5555555555555556,
              "#d8576b"
             ],
             [
              0.6666666666666666,
              "#ed7953"
             ],
             [
              0.7777777777777778,
              "#fb9f3a"
             ],
             [
              0.8888888888888888,
              "#fdca26"
             ],
             [
              1,
              "#f0f921"
             ]
            ],
            "type": "surface"
           }
          ],
          "table": [
           {
            "cells": {
             "fill": {
              "color": "#EBF0F8"
             },
             "line": {
              "color": "white"
             }
            },
            "header": {
             "fill": {
              "color": "#C8D4E3"
             },
             "line": {
              "color": "white"
             }
            },
            "type": "table"
           }
          ]
         },
         "layout": {
          "annotationdefaults": {
           "arrowcolor": "#2a3f5f",
           "arrowhead": 0,
           "arrowwidth": 1
          },
          "autotypenumbers": "strict",
          "coloraxis": {
           "colorbar": {
            "outlinewidth": 0,
            "ticks": ""
           }
          },
          "colorscale": {
           "diverging": [
            [
             0,
             "#8e0152"
            ],
            [
             0.1,
             "#c51b7d"
            ],
            [
             0.2,
             "#de77ae"
            ],
            [
             0.3,
             "#f1b6da"
            ],
            [
             0.4,
             "#fde0ef"
            ],
            [
             0.5,
             "#f7f7f7"
            ],
            [
             0.6,
             "#e6f5d0"
            ],
            [
             0.7,
             "#b8e186"
            ],
            [
             0.8,
             "#7fbc41"
            ],
            [
             0.9,
             "#4d9221"
            ],
            [
             1,
             "#276419"
            ]
           ],
           "sequential": [
            [
             0,
             "#0d0887"
            ],
            [
             0.1111111111111111,
             "#46039f"
            ],
            [
             0.2222222222222222,
             "#7201a8"
            ],
            [
             0.3333333333333333,
             "#9c179e"
            ],
            [
             0.4444444444444444,
             "#bd3786"
            ],
            [
             0.5555555555555556,
             "#d8576b"
            ],
            [
             0.6666666666666666,
             "#ed7953"
            ],
            [
             0.7777777777777778,
             "#fb9f3a"
            ],
            [
             0.8888888888888888,
             "#fdca26"
            ],
            [
             1,
             "#f0f921"
            ]
           ],
           "sequentialminus": [
            [
             0,
             "#0d0887"
            ],
            [
             0.1111111111111111,
             "#46039f"
            ],
            [
             0.2222222222222222,
             "#7201a8"
            ],
            [
             0.3333333333333333,
             "#9c179e"
            ],
            [
             0.4444444444444444,
             "#bd3786"
            ],
            [
             0.5555555555555556,
             "#d8576b"
            ],
            [
             0.6666666666666666,
             "#ed7953"
            ],
            [
             0.7777777777777778,
             "#fb9f3a"
            ],
            [
             0.8888888888888888,
             "#fdca26"
            ],
            [
             1,
             "#f0f921"
            ]
           ]
          },
          "colorway": [
           "#636efa",
           "#EF553B",
           "#00cc96",
           "#ab63fa",
           "#FFA15A",
           "#19d3f3",
           "#FF6692",
           "#B6E880",
           "#FF97FF",
           "#FECB52"
          ],
          "font": {
           "color": "#2a3f5f"
          },
          "geo": {
           "bgcolor": "white",
           "lakecolor": "white",
           "landcolor": "#E5ECF6",
           "showlakes": true,
           "showland": true,
           "subunitcolor": "white"
          },
          "hoverlabel": {
           "align": "left"
          },
          "hovermode": "closest",
          "mapbox": {
           "style": "light"
          },
          "paper_bgcolor": "white",
          "plot_bgcolor": "#E5ECF6",
          "polar": {
           "angularaxis": {
            "gridcolor": "white",
            "linecolor": "white",
            "ticks": ""
           },
           "bgcolor": "#E5ECF6",
           "radialaxis": {
            "gridcolor": "white",
            "linecolor": "white",
            "ticks": ""
           }
          },
          "scene": {
           "xaxis": {
            "backgroundcolor": "#E5ECF6",
            "gridcolor": "white",
            "gridwidth": 2,
            "linecolor": "white",
            "showbackground": true,
            "ticks": "",
            "zerolinecolor": "white"
           },
           "yaxis": {
            "backgroundcolor": "#E5ECF6",
            "gridcolor": "white",
            "gridwidth": 2,
            "linecolor": "white",
            "showbackground": true,
            "ticks": "",
            "zerolinecolor": "white"
           },
           "zaxis": {
            "backgroundcolor": "#E5ECF6",
            "gridcolor": "white",
            "gridwidth": 2,
            "linecolor": "white",
            "showbackground": true,
            "ticks": "",
            "zerolinecolor": "white"
           }
          },
          "shapedefaults": {
           "line": {
            "color": "#2a3f5f"
           }
          },
          "ternary": {
           "aaxis": {
            "gridcolor": "white",
            "linecolor": "white",
            "ticks": ""
           },
           "baxis": {
            "gridcolor": "white",
            "linecolor": "white",
            "ticks": ""
           },
           "bgcolor": "#E5ECF6",
           "caxis": {
            "gridcolor": "white",
            "linecolor": "white",
            "ticks": ""
           }
          },
          "title": {
           "x": 0.05
          },
          "xaxis": {
           "automargin": true,
           "gridcolor": "white",
           "linecolor": "white",
           "ticks": "",
           "title": {
            "standoff": 15
           },
           "zerolinecolor": "white",
           "zerolinewidth": 2
          },
          "yaxis": {
           "automargin": true,
           "gridcolor": "white",
           "linecolor": "white",
           "ticks": "",
           "title": {
            "standoff": 15
           },
           "zerolinecolor": "white",
           "zerolinewidth": 2
          }
         }
        }
       }
      }
     },
     "metadata": {},
     "output_type": "display_data"
    }
   ],
   "source": [
    "# create sunburst plot on titatnic dataset\n",
    "import plotly.express as px\n",
    "import seaborn as sns\n",
    "\n",
    "# load Titatnic dataset\n",
    "titanic = sns.load_dataset(\"titanic\")\n",
    "\n",
    "# create sunburst plot\n",
    "fig = px.sunburst(titanic, \n",
    "path = ['sex', 'class', 'who', 'alive', 'alone'],\n",
    "values='survived', color= 'sex')\n",
    "\n",
    "# show plot\n",
    "fig.show()"
   ]
  },
  {
   "cell_type": "code",
   "execution_count": 5,
   "metadata": {},
   "outputs": [
    {
     "data": {
      "text/html": [
       "<div>\n",
       "<style scoped>\n",
       "    .dataframe tbody tr th:only-of-type {\n",
       "        vertical-align: middle;\n",
       "    }\n",
       "\n",
       "    .dataframe tbody tr th {\n",
       "        vertical-align: top;\n",
       "    }\n",
       "\n",
       "    .dataframe thead th {\n",
       "        text-align: right;\n",
       "    }\n",
       "</style>\n",
       "<table border=\"1\" class=\"dataframe\">\n",
       "  <thead>\n",
       "    <tr style=\"text-align: right;\">\n",
       "      <th></th>\n",
       "      <th>total_bill</th>\n",
       "      <th>tip</th>\n",
       "      <th>sex</th>\n",
       "      <th>smoker</th>\n",
       "      <th>day</th>\n",
       "      <th>time</th>\n",
       "      <th>size</th>\n",
       "    </tr>\n",
       "  </thead>\n",
       "  <tbody>\n",
       "    <tr>\n",
       "      <th>0</th>\n",
       "      <td>16.99</td>\n",
       "      <td>1.01</td>\n",
       "      <td>Female</td>\n",
       "      <td>No</td>\n",
       "      <td>Sun</td>\n",
       "      <td>Dinner</td>\n",
       "      <td>2</td>\n",
       "    </tr>\n",
       "    <tr>\n",
       "      <th>1</th>\n",
       "      <td>10.34</td>\n",
       "      <td>1.66</td>\n",
       "      <td>Male</td>\n",
       "      <td>No</td>\n",
       "      <td>Sun</td>\n",
       "      <td>Dinner</td>\n",
       "      <td>3</td>\n",
       "    </tr>\n",
       "    <tr>\n",
       "      <th>2</th>\n",
       "      <td>21.01</td>\n",
       "      <td>3.50</td>\n",
       "      <td>Male</td>\n",
       "      <td>No</td>\n",
       "      <td>Sun</td>\n",
       "      <td>Dinner</td>\n",
       "      <td>3</td>\n",
       "    </tr>\n",
       "    <tr>\n",
       "      <th>3</th>\n",
       "      <td>23.68</td>\n",
       "      <td>3.31</td>\n",
       "      <td>Male</td>\n",
       "      <td>No</td>\n",
       "      <td>Sun</td>\n",
       "      <td>Dinner</td>\n",
       "      <td>2</td>\n",
       "    </tr>\n",
       "    <tr>\n",
       "      <th>4</th>\n",
       "      <td>24.59</td>\n",
       "      <td>3.61</td>\n",
       "      <td>Female</td>\n",
       "      <td>No</td>\n",
       "      <td>Sun</td>\n",
       "      <td>Dinner</td>\n",
       "      <td>4</td>\n",
       "    </tr>\n",
       "  </tbody>\n",
       "</table>\n",
       "</div>"
      ],
      "text/plain": [
       "   total_bill   tip     sex smoker  day    time  size\n",
       "0       16.99  1.01  Female     No  Sun  Dinner     2\n",
       "1       10.34  1.66    Male     No  Sun  Dinner     3\n",
       "2       21.01  3.50    Male     No  Sun  Dinner     3\n",
       "3       23.68  3.31    Male     No  Sun  Dinner     2\n",
       "4       24.59  3.61  Female     No  Sun  Dinner     4"
      ]
     },
     "execution_count": 5,
     "metadata": {},
     "output_type": "execute_result"
    }
   ],
   "source": [
    "tips = sns.load_dataset(\"tips\")\n",
    "tips.head()"
   ]
  },
  {
   "cell_type": "code",
   "execution_count": 6,
   "metadata": {},
   "outputs": [
    {
     "name": "stderr",
     "output_type": "stream",
     "text": [
      "c:\\Users\\Tariq\\anaconda3\\envs\\python_eda\\Lib\\site-packages\\plotly\\express\\_core.py:1699: FutureWarning:\n",
      "\n",
      "The default of observed=False is deprecated and will be changed to True in a future version of pandas. Pass observed=False to retain current behavior or observed=True to adopt the future default and silence this warning.\n",
      "\n",
      "c:\\Users\\Tariq\\anaconda3\\envs\\python_eda\\Lib\\site-packages\\plotly\\express\\_core.py:1699: FutureWarning:\n",
      "\n",
      "The default of observed=False is deprecated and will be changed to True in a future version of pandas. Pass observed=False to retain current behavior or observed=True to adopt the future default and silence this warning.\n",
      "\n",
      "c:\\Users\\Tariq\\anaconda3\\envs\\python_eda\\Lib\\site-packages\\plotly\\express\\_core.py:1699: FutureWarning:\n",
      "\n",
      "The default of observed=False is deprecated and will be changed to True in a future version of pandas. Pass observed=False to retain current behavior or observed=True to adopt the future default and silence this warning.\n",
      "\n",
      "c:\\Users\\Tariq\\anaconda3\\envs\\python_eda\\Lib\\site-packages\\plotly\\express\\_core.py:1699: FutureWarning:\n",
      "\n",
      "The default of observed=False is deprecated and will be changed to True in a future version of pandas. Pass observed=False to retain current behavior or observed=True to adopt the future default and silence this warning.\n",
      "\n"
     ]
    },
    {
     "data": {
      "application/vnd.plotly.v1+json": {
       "config": {
        "plotlyServerURL": "https://plot.ly"
       },
       "data": [
        {
         "branchvalues": "total",
         "customdata": [
          [
           "Male"
          ],
          [
           "Female"
          ],
          [
           null
          ],
          [
           "Female"
          ],
          [
           null
          ],
          [
           "Female"
          ],
          [
           "Male"
          ],
          [
           null
          ],
          [
           null
          ],
          [
           "Male"
          ],
          [
           "Male"
          ],
          [
           "Female"
          ],
          [
           "Male"
          ],
          [
           "Female"
          ],
          [
           "Male"
          ],
          [
           "Male"
          ],
          [
           "Female"
          ],
          [
           "Male"
          ],
          [
           "Male"
          ],
          [
           "Female"
          ],
          [
           "Male"
          ],
          [
           "Female"
          ],
          [
           "Male"
          ],
          [
           "Female"
          ],
          [
           "Male"
          ],
          [
           "Female"
          ],
          [
           "Male"
          ],
          [
           "Female"
          ],
          [
           "Male"
          ],
          [
           "Female"
          ],
          [
           "Female"
          ],
          [
           "Male"
          ],
          [
           "Male"
          ],
          [
           "Female"
          ],
          [
           "Male"
          ],
          [
           "Female"
          ],
          [
           "Female"
          ],
          [
           null
          ],
          [
           "Female"
          ],
          [
           null
          ],
          [
           null
          ],
          [
           null
          ],
          [
           null
          ],
          [
           null
          ],
          [
           null
          ],
          [
           null
          ],
          [
           "Female"
          ],
          [
           "Male"
          ],
          [
           "Female"
          ],
          [
           "Male"
          ],
          [
           "Female"
          ],
          [
           "Female"
          ],
          [
           "Male"
          ],
          [
           "Female"
          ]
         ],
         "domain": {
          "x": [
           0,
           1
          ],
          "y": [
           0,
           1
          ]
         },
         "hovertemplate": "labels=%{label}<br>size=%{value}<br>parent=%{parent}<br>id=%{id}<br>sex=%{customdata[0]}<extra></extra>",
         "ids": [
          "Male/Yes/Thur/Lunch",
          "Female/Yes/Sun/Dinner",
          "Male/No/Sun/Lunch",
          "Female/Yes/Fri",
          "Female/No/Sat/Lunch",
          "Female/Yes/Fri/Dinner",
          "Male/No/Fri/Dinner",
          "Male/Yes/Thur/Dinner",
          "Male/No/Thur/Dinner",
          "Male",
          "Male/Yes/Fri/Lunch",
          "Female/Yes/Thur",
          "Male/Yes/Thur",
          "Female/No",
          "Male/No/Thur",
          "Male/No/Fri",
          "Female/No/Thur",
          "Male/Yes/Fri",
          "Male/Yes/Sat",
          "Female/Yes/Sat",
          "Male/No/Sat",
          "Female/No/Sat",
          "Male/Yes/Sun",
          "Female/Yes/Sun",
          "Male/No/Sun",
          "Female/No/Sun",
          "Male/Yes",
          "Female/Yes",
          "Male/No",
          "Female/No/Fri",
          "Female/No/Sun/Dinner",
          "Male/No/Sat/Dinner",
          "Male/Yes/Sun/Dinner",
          "Female/Yes/Thur/Lunch",
          "Male/No/Thur/Lunch",
          "Female/No/Thur/Lunch",
          "Female/Yes/Fri/Lunch",
          "Male/No/Fri/Lunch",
          "Female/No/Fri/Lunch",
          "Male/Yes/Sat/Lunch",
          "Female/Yes/Sat/Lunch",
          "Male/No/Sat/Lunch",
          "Male/Yes/Sun/Lunch",
          "Female/Yes/Sun/Lunch",
          "Female/No/Sun/Lunch",
          "Female/Yes/Thur/Dinner",
          "Female/No/Thur/Dinner",
          "Male/Yes/Fri/Dinner",
          "Female/No/Fri/Dinner",
          "Male/Yes/Sat/Dinner",
          "Female/Yes/Sat/Dinner",
          "Female/No/Sat/Dinner",
          "Male/No/Sun/Dinner",
          "Female"
         ],
         "labels": [
          "Lunch",
          "Dinner",
          "Lunch",
          "Fri",
          "Lunch",
          "Dinner",
          "Dinner",
          "Dinner",
          "Dinner",
          "Male",
          "Lunch",
          "Thur",
          "Thur",
          "No",
          "Thur",
          "Fri",
          "Thur",
          "Fri",
          "Sat",
          "Sat",
          "Sat",
          "Sat",
          "Sun",
          "Sun",
          "Sun",
          "Sun",
          "Yes",
          "Yes",
          "No",
          "Fri",
          "Dinner",
          "Dinner",
          "Dinner",
          "Lunch",
          "Lunch",
          "Lunch",
          "Lunch",
          "Lunch",
          "Lunch",
          "Lunch",
          "Lunch",
          "Lunch",
          "Lunch",
          "Lunch",
          "Lunch",
          "Dinner",
          "Dinner",
          "Dinner",
          "Dinner",
          "Dinner",
          "Dinner",
          "Dinner",
          "Dinner",
          "Female"
         ],
         "marker": {
          "colors": [
           "#636efa",
           "#EF553B",
           "#00cc96",
           "#EF553B",
           "#00cc96",
           "#EF553B",
           "#636efa",
           "#00cc96",
           "#00cc96",
           "#636efa",
           "#636efa",
           "#EF553B",
           "#636efa",
           "#EF553B",
           "#636efa",
           "#636efa",
           "#EF553B",
           "#636efa",
           "#636efa",
           "#EF553B",
           "#636efa",
           "#EF553B",
           "#636efa",
           "#EF553B",
           "#636efa",
           "#EF553B",
           "#636efa",
           "#EF553B",
           "#636efa",
           "#EF553B",
           "#EF553B",
           "#636efa",
           "#636efa",
           "#EF553B",
           "#636efa",
           "#EF553B",
           "#EF553B",
           "#00cc96",
           "#EF553B",
           "#00cc96",
           "#00cc96",
           "#00cc96",
           "#00cc96",
           "#00cc96",
           "#00cc96",
           "#00cc96",
           "#EF553B",
           "#636efa",
           "#EF553B",
           "#636efa",
           "#EF553B",
           "#EF553B",
           "#636efa",
           "#EF553B"
          ]
         },
         "name": "",
         "parents": [
          "Male/Yes/Thur",
          "Female/Yes/Sun",
          "Male/No/Sun",
          "Female/Yes",
          "Female/No/Sat",
          "Female/Yes/Fri",
          "Male/No/Fri",
          "Male/Yes/Thur",
          "Male/No/Thur",
          "",
          "Male/Yes/Fri",
          "Female/Yes",
          "Male/Yes",
          "Female",
          "Male/No",
          "Male/No",
          "Female/No",
          "Male/Yes",
          "Male/Yes",
          "Female/Yes",
          "Male/No",
          "Female/No",
          "Male/Yes",
          "Female/Yes",
          "Male/No",
          "Female/No",
          "Male",
          "Female",
          "Male",
          "Female/No",
          "Female/No/Sun",
          "Male/No/Sat",
          "Male/Yes/Sun",
          "Female/Yes/Thur",
          "Male/No/Thur",
          "Female/No/Thur",
          "Female/Yes/Fri",
          "Male/No/Fri",
          "Female/No/Fri",
          "Male/Yes/Sat",
          "Female/Yes/Sat",
          "Male/No/Sat",
          "Male/Yes/Sun",
          "Female/Yes/Sun",
          "Female/No/Sun",
          "Female/Yes/Thur",
          "Female/No/Thur",
          "Male/Yes/Fri",
          "Female/No/Fri",
          "Male/Yes/Sat",
          "Female/Yes/Sat",
          "Female/No/Sat",
          "Male/No/Sun",
          ""
         ],
         "type": "sunburst",
         "values": [
          23,
          10,
          0,
          14,
          0,
          8,
          4,
          0,
          0,
          413,
          5,
          17,
          23,
          140,
          50,
          4,
          62,
          17,
          71,
          33,
          85,
          30,
          39,
          10,
          124,
          43,
          150,
          74,
          263,
          5,
          43,
          85,
          39,
          17,
          50,
          60,
          6,
          0,
          3,
          0,
          0,
          0,
          0,
          0,
          0,
          0,
          2,
          12,
          2,
          71,
          33,
          30,
          124,
          214
         ]
        }
       ],
       "layout": {
        "legend": {
         "tracegroupgap": 0
        },
        "margin": {
         "t": 60
        },
        "template": {
         "data": {
          "bar": [
           {
            "error_x": {
             "color": "#2a3f5f"
            },
            "error_y": {
             "color": "#2a3f5f"
            },
            "marker": {
             "line": {
              "color": "#E5ECF6",
              "width": 0.5
             },
             "pattern": {
              "fillmode": "overlay",
              "size": 10,
              "solidity": 0.2
             }
            },
            "type": "bar"
           }
          ],
          "barpolar": [
           {
            "marker": {
             "line": {
              "color": "#E5ECF6",
              "width": 0.5
             },
             "pattern": {
              "fillmode": "overlay",
              "size": 10,
              "solidity": 0.2
             }
            },
            "type": "barpolar"
           }
          ],
          "carpet": [
           {
            "aaxis": {
             "endlinecolor": "#2a3f5f",
             "gridcolor": "white",
             "linecolor": "white",
             "minorgridcolor": "white",
             "startlinecolor": "#2a3f5f"
            },
            "baxis": {
             "endlinecolor": "#2a3f5f",
             "gridcolor": "white",
             "linecolor": "white",
             "minorgridcolor": "white",
             "startlinecolor": "#2a3f5f"
            },
            "type": "carpet"
           }
          ],
          "choropleth": [
           {
            "colorbar": {
             "outlinewidth": 0,
             "ticks": ""
            },
            "type": "choropleth"
           }
          ],
          "contour": [
           {
            "colorbar": {
             "outlinewidth": 0,
             "ticks": ""
            },
            "colorscale": [
             [
              0,
              "#0d0887"
             ],
             [
              0.1111111111111111,
              "#46039f"
             ],
             [
              0.2222222222222222,
              "#7201a8"
             ],
             [
              0.3333333333333333,
              "#9c179e"
             ],
             [
              0.4444444444444444,
              "#bd3786"
             ],
             [
              0.5555555555555556,
              "#d8576b"
             ],
             [
              0.6666666666666666,
              "#ed7953"
             ],
             [
              0.7777777777777778,
              "#fb9f3a"
             ],
             [
              0.8888888888888888,
              "#fdca26"
             ],
             [
              1,
              "#f0f921"
             ]
            ],
            "type": "contour"
           }
          ],
          "contourcarpet": [
           {
            "colorbar": {
             "outlinewidth": 0,
             "ticks": ""
            },
            "type": "contourcarpet"
           }
          ],
          "heatmap": [
           {
            "colorbar": {
             "outlinewidth": 0,
             "ticks": ""
            },
            "colorscale": [
             [
              0,
              "#0d0887"
             ],
             [
              0.1111111111111111,
              "#46039f"
             ],
             [
              0.2222222222222222,
              "#7201a8"
             ],
             [
              0.3333333333333333,
              "#9c179e"
             ],
             [
              0.4444444444444444,
              "#bd3786"
             ],
             [
              0.5555555555555556,
              "#d8576b"
             ],
             [
              0.6666666666666666,
              "#ed7953"
             ],
             [
              0.7777777777777778,
              "#fb9f3a"
             ],
             [
              0.8888888888888888,
              "#fdca26"
             ],
             [
              1,
              "#f0f921"
             ]
            ],
            "type": "heatmap"
           }
          ],
          "heatmapgl": [
           {
            "colorbar": {
             "outlinewidth": 0,
             "ticks": ""
            },
            "colorscale": [
             [
              0,
              "#0d0887"
             ],
             [
              0.1111111111111111,
              "#46039f"
             ],
             [
              0.2222222222222222,
              "#7201a8"
             ],
             [
              0.3333333333333333,
              "#9c179e"
             ],
             [
              0.4444444444444444,
              "#bd3786"
             ],
             [
              0.5555555555555556,
              "#d8576b"
             ],
             [
              0.6666666666666666,
              "#ed7953"
             ],
             [
              0.7777777777777778,
              "#fb9f3a"
             ],
             [
              0.8888888888888888,
              "#fdca26"
             ],
             [
              1,
              "#f0f921"
             ]
            ],
            "type": "heatmapgl"
           }
          ],
          "histogram": [
           {
            "marker": {
             "pattern": {
              "fillmode": "overlay",
              "size": 10,
              "solidity": 0.2
             }
            },
            "type": "histogram"
           }
          ],
          "histogram2d": [
           {
            "colorbar": {
             "outlinewidth": 0,
             "ticks": ""
            },
            "colorscale": [
             [
              0,
              "#0d0887"
             ],
             [
              0.1111111111111111,
              "#46039f"
             ],
             [
              0.2222222222222222,
              "#7201a8"
             ],
             [
              0.3333333333333333,
              "#9c179e"
             ],
             [
              0.4444444444444444,
              "#bd3786"
             ],
             [
              0.5555555555555556,
              "#d8576b"
             ],
             [
              0.6666666666666666,
              "#ed7953"
             ],
             [
              0.7777777777777778,
              "#fb9f3a"
             ],
             [
              0.8888888888888888,
              "#fdca26"
             ],
             [
              1,
              "#f0f921"
             ]
            ],
            "type": "histogram2d"
           }
          ],
          "histogram2dcontour": [
           {
            "colorbar": {
             "outlinewidth": 0,
             "ticks": ""
            },
            "colorscale": [
             [
              0,
              "#0d0887"
             ],
             [
              0.1111111111111111,
              "#46039f"
             ],
             [
              0.2222222222222222,
              "#7201a8"
             ],
             [
              0.3333333333333333,
              "#9c179e"
             ],
             [
              0.4444444444444444,
              "#bd3786"
             ],
             [
              0.5555555555555556,
              "#d8576b"
             ],
             [
              0.6666666666666666,
              "#ed7953"
             ],
             [
              0.7777777777777778,
              "#fb9f3a"
             ],
             [
              0.8888888888888888,
              "#fdca26"
             ],
             [
              1,
              "#f0f921"
             ]
            ],
            "type": "histogram2dcontour"
           }
          ],
          "mesh3d": [
           {
            "colorbar": {
             "outlinewidth": 0,
             "ticks": ""
            },
            "type": "mesh3d"
           }
          ],
          "parcoords": [
           {
            "line": {
             "colorbar": {
              "outlinewidth": 0,
              "ticks": ""
             }
            },
            "type": "parcoords"
           }
          ],
          "pie": [
           {
            "automargin": true,
            "type": "pie"
           }
          ],
          "scatter": [
           {
            "fillpattern": {
             "fillmode": "overlay",
             "size": 10,
             "solidity": 0.2
            },
            "type": "scatter"
           }
          ],
          "scatter3d": [
           {
            "line": {
             "colorbar": {
              "outlinewidth": 0,
              "ticks": ""
             }
            },
            "marker": {
             "colorbar": {
              "outlinewidth": 0,
              "ticks": ""
             }
            },
            "type": "scatter3d"
           }
          ],
          "scattercarpet": [
           {
            "marker": {
             "colorbar": {
              "outlinewidth": 0,
              "ticks": ""
             }
            },
            "type": "scattercarpet"
           }
          ],
          "scattergeo": [
           {
            "marker": {
             "colorbar": {
              "outlinewidth": 0,
              "ticks": ""
             }
            },
            "type": "scattergeo"
           }
          ],
          "scattergl": [
           {
            "marker": {
             "colorbar": {
              "outlinewidth": 0,
              "ticks": ""
             }
            },
            "type": "scattergl"
           }
          ],
          "scattermapbox": [
           {
            "marker": {
             "colorbar": {
              "outlinewidth": 0,
              "ticks": ""
             }
            },
            "type": "scattermapbox"
           }
          ],
          "scatterpolar": [
           {
            "marker": {
             "colorbar": {
              "outlinewidth": 0,
              "ticks": ""
             }
            },
            "type": "scatterpolar"
           }
          ],
          "scatterpolargl": [
           {
            "marker": {
             "colorbar": {
              "outlinewidth": 0,
              "ticks": ""
             }
            },
            "type": "scatterpolargl"
           }
          ],
          "scatterternary": [
           {
            "marker": {
             "colorbar": {
              "outlinewidth": 0,
              "ticks": ""
             }
            },
            "type": "scatterternary"
           }
          ],
          "surface": [
           {
            "colorbar": {
             "outlinewidth": 0,
             "ticks": ""
            },
            "colorscale": [
             [
              0,
              "#0d0887"
             ],
             [
              0.1111111111111111,
              "#46039f"
             ],
             [
              0.2222222222222222,
              "#7201a8"
             ],
             [
              0.3333333333333333,
              "#9c179e"
             ],
             [
              0.4444444444444444,
              "#bd3786"
             ],
             [
              0.5555555555555556,
              "#d8576b"
             ],
             [
              0.6666666666666666,
              "#ed7953"
             ],
             [
              0.7777777777777778,
              "#fb9f3a"
             ],
             [
              0.8888888888888888,
              "#fdca26"
             ],
             [
              1,
              "#f0f921"
             ]
            ],
            "type": "surface"
           }
          ],
          "table": [
           {
            "cells": {
             "fill": {
              "color": "#EBF0F8"
             },
             "line": {
              "color": "white"
             }
            },
            "header": {
             "fill": {
              "color": "#C8D4E3"
             },
             "line": {
              "color": "white"
             }
            },
            "type": "table"
           }
          ]
         },
         "layout": {
          "annotationdefaults": {
           "arrowcolor": "#2a3f5f",
           "arrowhead": 0,
           "arrowwidth": 1
          },
          "autotypenumbers": "strict",
          "coloraxis": {
           "colorbar": {
            "outlinewidth": 0,
            "ticks": ""
           }
          },
          "colorscale": {
           "diverging": [
            [
             0,
             "#8e0152"
            ],
            [
             0.1,
             "#c51b7d"
            ],
            [
             0.2,
             "#de77ae"
            ],
            [
             0.3,
             "#f1b6da"
            ],
            [
             0.4,
             "#fde0ef"
            ],
            [
             0.5,
             "#f7f7f7"
            ],
            [
             0.6,
             "#e6f5d0"
            ],
            [
             0.7,
             "#b8e186"
            ],
            [
             0.8,
             "#7fbc41"
            ],
            [
             0.9,
             "#4d9221"
            ],
            [
             1,
             "#276419"
            ]
           ],
           "sequential": [
            [
             0,
             "#0d0887"
            ],
            [
             0.1111111111111111,
             "#46039f"
            ],
            [
             0.2222222222222222,
             "#7201a8"
            ],
            [
             0.3333333333333333,
             "#9c179e"
            ],
            [
             0.4444444444444444,
             "#bd3786"
            ],
            [
             0.5555555555555556,
             "#d8576b"
            ],
            [
             0.6666666666666666,
             "#ed7953"
            ],
            [
             0.7777777777777778,
             "#fb9f3a"
            ],
            [
             0.8888888888888888,
             "#fdca26"
            ],
            [
             1,
             "#f0f921"
            ]
           ],
           "sequentialminus": [
            [
             0,
             "#0d0887"
            ],
            [
             0.1111111111111111,
             "#46039f"
            ],
            [
             0.2222222222222222,
             "#7201a8"
            ],
            [
             0.3333333333333333,
             "#9c179e"
            ],
            [
             0.4444444444444444,
             "#bd3786"
            ],
            [
             0.5555555555555556,
             "#d8576b"
            ],
            [
             0.6666666666666666,
             "#ed7953"
            ],
            [
             0.7777777777777778,
             "#fb9f3a"
            ],
            [
             0.8888888888888888,
             "#fdca26"
            ],
            [
             1,
             "#f0f921"
            ]
           ]
          },
          "colorway": [
           "#636efa",
           "#EF553B",
           "#00cc96",
           "#ab63fa",
           "#FFA15A",
           "#19d3f3",
           "#FF6692",
           "#B6E880",
           "#FF97FF",
           "#FECB52"
          ],
          "font": {
           "color": "#2a3f5f"
          },
          "geo": {
           "bgcolor": "white",
           "lakecolor": "white",
           "landcolor": "#E5ECF6",
           "showlakes": true,
           "showland": true,
           "subunitcolor": "white"
          },
          "hoverlabel": {
           "align": "left"
          },
          "hovermode": "closest",
          "mapbox": {
           "style": "light"
          },
          "paper_bgcolor": "white",
          "plot_bgcolor": "#E5ECF6",
          "polar": {
           "angularaxis": {
            "gridcolor": "white",
            "linecolor": "white",
            "ticks": ""
           },
           "bgcolor": "#E5ECF6",
           "radialaxis": {
            "gridcolor": "white",
            "linecolor": "white",
            "ticks": ""
           }
          },
          "scene": {
           "xaxis": {
            "backgroundcolor": "#E5ECF6",
            "gridcolor": "white",
            "gridwidth": 2,
            "linecolor": "white",
            "showbackground": true,
            "ticks": "",
            "zerolinecolor": "white"
           },
           "yaxis": {
            "backgroundcolor": "#E5ECF6",
            "gridcolor": "white",
            "gridwidth": 2,
            "linecolor": "white",
            "showbackground": true,
            "ticks": "",
            "zerolinecolor": "white"
           },
           "zaxis": {
            "backgroundcolor": "#E5ECF6",
            "gridcolor": "white",
            "gridwidth": 2,
            "linecolor": "white",
            "showbackground": true,
            "ticks": "",
            "zerolinecolor": "white"
           }
          },
          "shapedefaults": {
           "line": {
            "color": "#2a3f5f"
           }
          },
          "ternary": {
           "aaxis": {
            "gridcolor": "white",
            "linecolor": "white",
            "ticks": ""
           },
           "baxis": {
            "gridcolor": "white",
            "linecolor": "white",
            "ticks": ""
           },
           "bgcolor": "#E5ECF6",
           "caxis": {
            "gridcolor": "white",
            "linecolor": "white",
            "ticks": ""
           }
          },
          "title": {
           "x": 0.05
          },
          "xaxis": {
           "automargin": true,
           "gridcolor": "white",
           "linecolor": "white",
           "ticks": "",
           "title": {
            "standoff": 15
           },
           "zerolinecolor": "white",
           "zerolinewidth": 2
          },
          "yaxis": {
           "automargin": true,
           "gridcolor": "white",
           "linecolor": "white",
           "ticks": "",
           "title": {
            "standoff": 15
           },
           "zerolinecolor": "white",
           "zerolinewidth": 2
          }
         }
        }
       }
      }
     },
     "metadata": {},
     "output_type": "display_data"
    }
   ],
   "source": [
    "# create sunburst plot\n",
    "fig = px.sunburst(tips, \n",
    "path = ['sex', 'smoker', 'day', 'time'],\n",
    "values='size', color= 'sex')\n",
    "\n",
    "# show plot\n",
    "fig.show()"
   ]
  },
  {
   "cell_type": "code",
   "execution_count": 7,
   "metadata": {},
   "outputs": [
    {
     "name": "stderr",
     "output_type": "stream",
     "text": [
      "c:\\Users\\Tariq\\anaconda3\\envs\\python_eda\\Lib\\site-packages\\plotly\\express\\_core.py:1699: FutureWarning:\n",
      "\n",
      "The default of observed=False is deprecated and will be changed to True in a future version of pandas. Pass observed=False to retain current behavior or observed=True to adopt the future default and silence this warning.\n",
      "\n",
      "c:\\Users\\Tariq\\anaconda3\\envs\\python_eda\\Lib\\site-packages\\plotly\\express\\_core.py:1699: FutureWarning:\n",
      "\n",
      "The default of observed=False is deprecated and will be changed to True in a future version of pandas. Pass observed=False to retain current behavior or observed=True to adopt the future default and silence this warning.\n",
      "\n",
      "c:\\Users\\Tariq\\anaconda3\\envs\\python_eda\\Lib\\site-packages\\plotly\\express\\_core.py:1699: FutureWarning:\n",
      "\n",
      "The default of observed=False is deprecated and will be changed to True in a future version of pandas. Pass observed=False to retain current behavior or observed=True to adopt the future default and silence this warning.\n",
      "\n",
      "c:\\Users\\Tariq\\anaconda3\\envs\\python_eda\\Lib\\site-packages\\plotly\\express\\_core.py:1699: FutureWarning:\n",
      "\n",
      "The default of observed=False is deprecated and will be changed to True in a future version of pandas. Pass observed=False to retain current behavior or observed=True to adopt the future default and silence this warning.\n",
      "\n"
     ]
    },
    {
     "data": {
      "application/vnd.plotly.v1+json": {
       "config": {
        "plotlyServerURL": "https://plot.ly"
       },
       "data": [
        {
         "branchvalues": "total",
         "customdata": [
          [
           "Male"
          ],
          [
           "Female"
          ],
          [
           null
          ],
          [
           "Female"
          ],
          [
           null
          ],
          [
           "Female"
          ],
          [
           "Male"
          ],
          [
           null
          ],
          [
           null
          ],
          [
           "Male"
          ],
          [
           "Male"
          ],
          [
           "Female"
          ],
          [
           "Male"
          ],
          [
           "Female"
          ],
          [
           "Male"
          ],
          [
           "Male"
          ],
          [
           "Female"
          ],
          [
           "Male"
          ],
          [
           "Male"
          ],
          [
           "Female"
          ],
          [
           "Male"
          ],
          [
           "Female"
          ],
          [
           "Male"
          ],
          [
           "Female"
          ],
          [
           "Male"
          ],
          [
           "Female"
          ],
          [
           "Male"
          ],
          [
           "Female"
          ],
          [
           "Male"
          ],
          [
           "Female"
          ],
          [
           "Female"
          ],
          [
           "Male"
          ],
          [
           "Male"
          ],
          [
           "Female"
          ],
          [
           "Male"
          ],
          [
           "Female"
          ],
          [
           "Female"
          ],
          [
           null
          ],
          [
           "Female"
          ],
          [
           null
          ],
          [
           null
          ],
          [
           null
          ],
          [
           null
          ],
          [
           null
          ],
          [
           null
          ],
          [
           null
          ],
          [
           "Female"
          ],
          [
           "Male"
          ],
          [
           "Female"
          ],
          [
           "Male"
          ],
          [
           "Female"
          ],
          [
           "Female"
          ],
          [
           "Male"
          ],
          [
           "Female"
          ]
         ],
         "domain": {
          "x": [
           0,
           1
          ],
          "y": [
           0,
           1
          ]
         },
         "hovertemplate": "labels=%{label}<br>total_bill=%{value}<br>parent=%{parent}<br>id=%{id}<br>sex=%{customdata[0]}<extra></extra>",
         "ids": [
          "Male/Yes/Thur/Lunch",
          "Female/Yes/Sun/Dinner",
          "Male/No/Sun/Lunch",
          "Female/Yes/Fri",
          "Female/No/Sat/Lunch",
          "Female/Yes/Fri/Dinner",
          "Male/No/Fri/Dinner",
          "Male/Yes/Thur/Dinner",
          "Male/No/Thur/Dinner",
          "Male",
          "Male/Yes/Fri/Lunch",
          "Female/Yes/Thur",
          "Male/Yes/Thur",
          "Female/No",
          "Male/No/Thur",
          "Male/No/Fri",
          "Female/No/Thur",
          "Male/Yes/Fri",
          "Male/Yes/Sat",
          "Female/Yes/Sat",
          "Male/No/Sat",
          "Female/No/Sat",
          "Male/Yes/Sun",
          "Female/Yes/Sun",
          "Male/No/Sun",
          "Female/No/Sun",
          "Male/Yes",
          "Female/Yes",
          "Male/No",
          "Female/No/Fri",
          "Female/No/Sun/Dinner",
          "Male/No/Sat/Dinner",
          "Male/Yes/Sun/Dinner",
          "Female/Yes/Thur/Lunch",
          "Male/No/Thur/Lunch",
          "Female/No/Thur/Lunch",
          "Female/Yes/Fri/Lunch",
          "Male/No/Fri/Lunch",
          "Female/No/Fri/Lunch",
          "Male/Yes/Sat/Lunch",
          "Female/Yes/Sat/Lunch",
          "Male/No/Sat/Lunch",
          "Male/Yes/Sun/Lunch",
          "Female/Yes/Sun/Lunch",
          "Female/No/Sun/Lunch",
          "Female/Yes/Thur/Dinner",
          "Female/No/Thur/Dinner",
          "Male/Yes/Fri/Dinner",
          "Female/No/Fri/Dinner",
          "Male/Yes/Sat/Dinner",
          "Female/Yes/Sat/Dinner",
          "Female/No/Sat/Dinner",
          "Male/No/Sun/Dinner",
          "Female"
         ],
         "labels": [
          "Lunch",
          "Dinner",
          "Lunch",
          "Fri",
          "Lunch",
          "Dinner",
          "Dinner",
          "Dinner",
          "Dinner",
          "Male",
          "Lunch",
          "Thur",
          "Thur",
          "No",
          "Thur",
          "Fri",
          "Thur",
          "Fri",
          "Sat",
          "Sat",
          "Sat",
          "Sat",
          "Sun",
          "Sun",
          "Sun",
          "Sun",
          "Yes",
          "Yes",
          "No",
          "Fri",
          "Dinner",
          "Dinner",
          "Dinner",
          "Lunch",
          "Lunch",
          "Lunch",
          "Lunch",
          "Lunch",
          "Lunch",
          "Lunch",
          "Lunch",
          "Lunch",
          "Lunch",
          "Lunch",
          "Lunch",
          "Dinner",
          "Dinner",
          "Dinner",
          "Dinner",
          "Dinner",
          "Dinner",
          "Dinner",
          "Dinner",
          "Female"
         ],
         "marker": {
          "colors": [
           "#636efa",
           "#EF553B",
           "#00cc96",
           "#EF553B",
           "#00cc96",
           "#EF553B",
           "#636efa",
           "#00cc96",
           "#00cc96",
           "#636efa",
           "#636efa",
           "#EF553B",
           "#636efa",
           "#EF553B",
           "#636efa",
           "#636efa",
           "#EF553B",
           "#636efa",
           "#636efa",
           "#EF553B",
           "#636efa",
           "#EF553B",
           "#636efa",
           "#EF553B",
           "#636efa",
           "#EF553B",
           "#636efa",
           "#EF553B",
           "#636efa",
           "#EF553B",
           "#EF553B",
           "#636efa",
           "#636efa",
           "#EF553B",
           "#636efa",
           "#EF553B",
           "#EF553B",
           "#00cc96",
           "#EF553B",
           "#00cc96",
           "#00cc96",
           "#00cc96",
           "#00cc96",
           "#00cc96",
           "#00cc96",
           "#00cc96",
           "#EF553B",
           "#636efa",
           "#EF553B",
           "#636efa",
           "#EF553B",
           "#EF553B",
           "#636efa",
           "#EF553B"
          ]
         },
         "name": "",
         "parents": [
          "Male/Yes/Thur",
          "Female/Yes/Sun",
          "Male/No/Sun",
          "Female/Yes",
          "Female/No/Sat",
          "Female/Yes/Fri",
          "Male/No/Fri",
          "Male/Yes/Thur",
          "Male/No/Thur",
          "",
          "Male/Yes/Fri",
          "Female/Yes",
          "Male/Yes",
          "Female",
          "Male/No",
          "Male/No",
          "Female/No",
          "Male/Yes",
          "Male/Yes",
          "Female/Yes",
          "Male/No",
          "Female/No",
          "Male/Yes",
          "Female/Yes",
          "Male/No",
          "Female/No",
          "Male",
          "Female",
          "Male",
          "Female/No",
          "Female/No/Sun",
          "Male/No/Sat",
          "Male/Yes/Sun",
          "Female/Yes/Thur",
          "Male/No/Thur",
          "Female/No/Thur",
          "Female/Yes/Fri",
          "Male/No/Fri",
          "Female/No/Fri",
          "Male/Yes/Sat",
          "Female/Yes/Sat",
          "Male/No/Sat",
          "Male/Yes/Sun",
          "Female/Yes/Sun",
          "Female/No/Sun",
          "Female/Yes/Thur",
          "Female/No/Thur",
          "Male/Yes/Fri",
          "Female/No/Fri",
          "Male/Yes/Sat",
          "Female/Yes/Sat",
          "Female/No/Sat",
          "Male/No/Sun",
          ""
         ],
         "type": "sunburst",
         "values": [
          191.71,
          66.16,
          0,
          88.58,
          0,
          48.8,
          34.95,
          0,
          0,
          3256.82,
          34.16,
          134.53,
          191.71,
          977.6800000000001,
          369.73,
          34.95,
          400.36,
          163.62,
          589.62,
          304,
          637.73,
          247.05,
          392.12,
          66.16,
          877.34,
          291.54,
          1337.07,
          593.27,
          1919.75,
          38.730000000000004,
          291.54,
          637.73,
          392.12,
          134.53,
          369.73,
          381.58,
          39.78,
          0,
          15.98,
          0,
          0,
          0,
          0,
          0,
          0,
          0,
          18.78,
          129.46,
          22.75,
          589.62,
          304,
          247.05,
          877.34,
          1570.95
         ]
        }
       ],
       "layout": {
        "legend": {
         "tracegroupgap": 0
        },
        "margin": {
         "t": 60
        },
        "template": {
         "data": {
          "bar": [
           {
            "error_x": {
             "color": "#2a3f5f"
            },
            "error_y": {
             "color": "#2a3f5f"
            },
            "marker": {
             "line": {
              "color": "#E5ECF6",
              "width": 0.5
             },
             "pattern": {
              "fillmode": "overlay",
              "size": 10,
              "solidity": 0.2
             }
            },
            "type": "bar"
           }
          ],
          "barpolar": [
           {
            "marker": {
             "line": {
              "color": "#E5ECF6",
              "width": 0.5
             },
             "pattern": {
              "fillmode": "overlay",
              "size": 10,
              "solidity": 0.2
             }
            },
            "type": "barpolar"
           }
          ],
          "carpet": [
           {
            "aaxis": {
             "endlinecolor": "#2a3f5f",
             "gridcolor": "white",
             "linecolor": "white",
             "minorgridcolor": "white",
             "startlinecolor": "#2a3f5f"
            },
            "baxis": {
             "endlinecolor": "#2a3f5f",
             "gridcolor": "white",
             "linecolor": "white",
             "minorgridcolor": "white",
             "startlinecolor": "#2a3f5f"
            },
            "type": "carpet"
           }
          ],
          "choropleth": [
           {
            "colorbar": {
             "outlinewidth": 0,
             "ticks": ""
            },
            "type": "choropleth"
           }
          ],
          "contour": [
           {
            "colorbar": {
             "outlinewidth": 0,
             "ticks": ""
            },
            "colorscale": [
             [
              0,
              "#0d0887"
             ],
             [
              0.1111111111111111,
              "#46039f"
             ],
             [
              0.2222222222222222,
              "#7201a8"
             ],
             [
              0.3333333333333333,
              "#9c179e"
             ],
             [
              0.4444444444444444,
              "#bd3786"
             ],
             [
              0.5555555555555556,
              "#d8576b"
             ],
             [
              0.6666666666666666,
              "#ed7953"
             ],
             [
              0.7777777777777778,
              "#fb9f3a"
             ],
             [
              0.8888888888888888,
              "#fdca26"
             ],
             [
              1,
              "#f0f921"
             ]
            ],
            "type": "contour"
           }
          ],
          "contourcarpet": [
           {
            "colorbar": {
             "outlinewidth": 0,
             "ticks": ""
            },
            "type": "contourcarpet"
           }
          ],
          "heatmap": [
           {
            "colorbar": {
             "outlinewidth": 0,
             "ticks": ""
            },
            "colorscale": [
             [
              0,
              "#0d0887"
             ],
             [
              0.1111111111111111,
              "#46039f"
             ],
             [
              0.2222222222222222,
              "#7201a8"
             ],
             [
              0.3333333333333333,
              "#9c179e"
             ],
             [
              0.4444444444444444,
              "#bd3786"
             ],
             [
              0.5555555555555556,
              "#d8576b"
             ],
             [
              0.6666666666666666,
              "#ed7953"
             ],
             [
              0.7777777777777778,
              "#fb9f3a"
             ],
             [
              0.8888888888888888,
              "#fdca26"
             ],
             [
              1,
              "#f0f921"
             ]
            ],
            "type": "heatmap"
           }
          ],
          "heatmapgl": [
           {
            "colorbar": {
             "outlinewidth": 0,
             "ticks": ""
            },
            "colorscale": [
             [
              0,
              "#0d0887"
             ],
             [
              0.1111111111111111,
              "#46039f"
             ],
             [
              0.2222222222222222,
              "#7201a8"
             ],
             [
              0.3333333333333333,
              "#9c179e"
             ],
             [
              0.4444444444444444,
              "#bd3786"
             ],
             [
              0.5555555555555556,
              "#d8576b"
             ],
             [
              0.6666666666666666,
              "#ed7953"
             ],
             [
              0.7777777777777778,
              "#fb9f3a"
             ],
             [
              0.8888888888888888,
              "#fdca26"
             ],
             [
              1,
              "#f0f921"
             ]
            ],
            "type": "heatmapgl"
           }
          ],
          "histogram": [
           {
            "marker": {
             "pattern": {
              "fillmode": "overlay",
              "size": 10,
              "solidity": 0.2
             }
            },
            "type": "histogram"
           }
          ],
          "histogram2d": [
           {
            "colorbar": {
             "outlinewidth": 0,
             "ticks": ""
            },
            "colorscale": [
             [
              0,
              "#0d0887"
             ],
             [
              0.1111111111111111,
              "#46039f"
             ],
             [
              0.2222222222222222,
              "#7201a8"
             ],
             [
              0.3333333333333333,
              "#9c179e"
             ],
             [
              0.4444444444444444,
              "#bd3786"
             ],
             [
              0.5555555555555556,
              "#d8576b"
             ],
             [
              0.6666666666666666,
              "#ed7953"
             ],
             [
              0.7777777777777778,
              "#fb9f3a"
             ],
             [
              0.8888888888888888,
              "#fdca26"
             ],
             [
              1,
              "#f0f921"
             ]
            ],
            "type": "histogram2d"
           }
          ],
          "histogram2dcontour": [
           {
            "colorbar": {
             "outlinewidth": 0,
             "ticks": ""
            },
            "colorscale": [
             [
              0,
              "#0d0887"
             ],
             [
              0.1111111111111111,
              "#46039f"
             ],
             [
              0.2222222222222222,
              "#7201a8"
             ],
             [
              0.3333333333333333,
              "#9c179e"
             ],
             [
              0.4444444444444444,
              "#bd3786"
             ],
             [
              0.5555555555555556,
              "#d8576b"
             ],
             [
              0.6666666666666666,
              "#ed7953"
             ],
             [
              0.7777777777777778,
              "#fb9f3a"
             ],
             [
              0.8888888888888888,
              "#fdca26"
             ],
             [
              1,
              "#f0f921"
             ]
            ],
            "type": "histogram2dcontour"
           }
          ],
          "mesh3d": [
           {
            "colorbar": {
             "outlinewidth": 0,
             "ticks": ""
            },
            "type": "mesh3d"
           }
          ],
          "parcoords": [
           {
            "line": {
             "colorbar": {
              "outlinewidth": 0,
              "ticks": ""
             }
            },
            "type": "parcoords"
           }
          ],
          "pie": [
           {
            "automargin": true,
            "type": "pie"
           }
          ],
          "scatter": [
           {
            "fillpattern": {
             "fillmode": "overlay",
             "size": 10,
             "solidity": 0.2
            },
            "type": "scatter"
           }
          ],
          "scatter3d": [
           {
            "line": {
             "colorbar": {
              "outlinewidth": 0,
              "ticks": ""
             }
            },
            "marker": {
             "colorbar": {
              "outlinewidth": 0,
              "ticks": ""
             }
            },
            "type": "scatter3d"
           }
          ],
          "scattercarpet": [
           {
            "marker": {
             "colorbar": {
              "outlinewidth": 0,
              "ticks": ""
             }
            },
            "type": "scattercarpet"
           }
          ],
          "scattergeo": [
           {
            "marker": {
             "colorbar": {
              "outlinewidth": 0,
              "ticks": ""
             }
            },
            "type": "scattergeo"
           }
          ],
          "scattergl": [
           {
            "marker": {
             "colorbar": {
              "outlinewidth": 0,
              "ticks": ""
             }
            },
            "type": "scattergl"
           }
          ],
          "scattermapbox": [
           {
            "marker": {
             "colorbar": {
              "outlinewidth": 0,
              "ticks": ""
             }
            },
            "type": "scattermapbox"
           }
          ],
          "scatterpolar": [
           {
            "marker": {
             "colorbar": {
              "outlinewidth": 0,
              "ticks": ""
             }
            },
            "type": "scatterpolar"
           }
          ],
          "scatterpolargl": [
           {
            "marker": {
             "colorbar": {
              "outlinewidth": 0,
              "ticks": ""
             }
            },
            "type": "scatterpolargl"
           }
          ],
          "scatterternary": [
           {
            "marker": {
             "colorbar": {
              "outlinewidth": 0,
              "ticks": ""
             }
            },
            "type": "scatterternary"
           }
          ],
          "surface": [
           {
            "colorbar": {
             "outlinewidth": 0,
             "ticks": ""
            },
            "colorscale": [
             [
              0,
              "#0d0887"
             ],
             [
              0.1111111111111111,
              "#46039f"
             ],
             [
              0.2222222222222222,
              "#7201a8"
             ],
             [
              0.3333333333333333,
              "#9c179e"
             ],
             [
              0.4444444444444444,
              "#bd3786"
             ],
             [
              0.5555555555555556,
              "#d8576b"
             ],
             [
              0.6666666666666666,
              "#ed7953"
             ],
             [
              0.7777777777777778,
              "#fb9f3a"
             ],
             [
              0.8888888888888888,
              "#fdca26"
             ],
             [
              1,
              "#f0f921"
             ]
            ],
            "type": "surface"
           }
          ],
          "table": [
           {
            "cells": {
             "fill": {
              "color": "#EBF0F8"
             },
             "line": {
              "color": "white"
             }
            },
            "header": {
             "fill": {
              "color": "#C8D4E3"
             },
             "line": {
              "color": "white"
             }
            },
            "type": "table"
           }
          ]
         },
         "layout": {
          "annotationdefaults": {
           "arrowcolor": "#2a3f5f",
           "arrowhead": 0,
           "arrowwidth": 1
          },
          "autotypenumbers": "strict",
          "coloraxis": {
           "colorbar": {
            "outlinewidth": 0,
            "ticks": ""
           }
          },
          "colorscale": {
           "diverging": [
            [
             0,
             "#8e0152"
            ],
            [
             0.1,
             "#c51b7d"
            ],
            [
             0.2,
             "#de77ae"
            ],
            [
             0.3,
             "#f1b6da"
            ],
            [
             0.4,
             "#fde0ef"
            ],
            [
             0.5,
             "#f7f7f7"
            ],
            [
             0.6,
             "#e6f5d0"
            ],
            [
             0.7,
             "#b8e186"
            ],
            [
             0.8,
             "#7fbc41"
            ],
            [
             0.9,
             "#4d9221"
            ],
            [
             1,
             "#276419"
            ]
           ],
           "sequential": [
            [
             0,
             "#0d0887"
            ],
            [
             0.1111111111111111,
             "#46039f"
            ],
            [
             0.2222222222222222,
             "#7201a8"
            ],
            [
             0.3333333333333333,
             "#9c179e"
            ],
            [
             0.4444444444444444,
             "#bd3786"
            ],
            [
             0.5555555555555556,
             "#d8576b"
            ],
            [
             0.6666666666666666,
             "#ed7953"
            ],
            [
             0.7777777777777778,
             "#fb9f3a"
            ],
            [
             0.8888888888888888,
             "#fdca26"
            ],
            [
             1,
             "#f0f921"
            ]
           ],
           "sequentialminus": [
            [
             0,
             "#0d0887"
            ],
            [
             0.1111111111111111,
             "#46039f"
            ],
            [
             0.2222222222222222,
             "#7201a8"
            ],
            [
             0.3333333333333333,
             "#9c179e"
            ],
            [
             0.4444444444444444,
             "#bd3786"
            ],
            [
             0.5555555555555556,
             "#d8576b"
            ],
            [
             0.6666666666666666,
             "#ed7953"
            ],
            [
             0.7777777777777778,
             "#fb9f3a"
            ],
            [
             0.8888888888888888,
             "#fdca26"
            ],
            [
             1,
             "#f0f921"
            ]
           ]
          },
          "colorway": [
           "#636efa",
           "#EF553B",
           "#00cc96",
           "#ab63fa",
           "#FFA15A",
           "#19d3f3",
           "#FF6692",
           "#B6E880",
           "#FF97FF",
           "#FECB52"
          ],
          "font": {
           "color": "#2a3f5f"
          },
          "geo": {
           "bgcolor": "white",
           "lakecolor": "white",
           "landcolor": "#E5ECF6",
           "showlakes": true,
           "showland": true,
           "subunitcolor": "white"
          },
          "hoverlabel": {
           "align": "left"
          },
          "hovermode": "closest",
          "mapbox": {
           "style": "light"
          },
          "paper_bgcolor": "white",
          "plot_bgcolor": "#E5ECF6",
          "polar": {
           "angularaxis": {
            "gridcolor": "white",
            "linecolor": "white",
            "ticks": ""
           },
           "bgcolor": "#E5ECF6",
           "radialaxis": {
            "gridcolor": "white",
            "linecolor": "white",
            "ticks": ""
           }
          },
          "scene": {
           "xaxis": {
            "backgroundcolor": "#E5ECF6",
            "gridcolor": "white",
            "gridwidth": 2,
            "linecolor": "white",
            "showbackground": true,
            "ticks": "",
            "zerolinecolor": "white"
           },
           "yaxis": {
            "backgroundcolor": "#E5ECF6",
            "gridcolor": "white",
            "gridwidth": 2,
            "linecolor": "white",
            "showbackground": true,
            "ticks": "",
            "zerolinecolor": "white"
           },
           "zaxis": {
            "backgroundcolor": "#E5ECF6",
            "gridcolor": "white",
            "gridwidth": 2,
            "linecolor": "white",
            "showbackground": true,
            "ticks": "",
            "zerolinecolor": "white"
           }
          },
          "shapedefaults": {
           "line": {
            "color": "#2a3f5f"
           }
          },
          "ternary": {
           "aaxis": {
            "gridcolor": "white",
            "linecolor": "white",
            "ticks": ""
           },
           "baxis": {
            "gridcolor": "white",
            "linecolor": "white",
            "ticks": ""
           },
           "bgcolor": "#E5ECF6",
           "caxis": {
            "gridcolor": "white",
            "linecolor": "white",
            "ticks": ""
           }
          },
          "title": {
           "x": 0.05
          },
          "xaxis": {
           "automargin": true,
           "gridcolor": "white",
           "linecolor": "white",
           "ticks": "",
           "title": {
            "standoff": 15
           },
           "zerolinecolor": "white",
           "zerolinewidth": 2
          },
          "yaxis": {
           "automargin": true,
           "gridcolor": "white",
           "linecolor": "white",
           "ticks": "",
           "title": {
            "standoff": 15
           },
           "zerolinecolor": "white",
           "zerolinewidth": 2
          }
         }
        }
       }
      }
     },
     "metadata": {},
     "output_type": "display_data"
    }
   ],
   "source": [
    "# create sunburst plot\n",
    "fig = px.sunburst(tips, \n",
    "path = ['sex', 'smoker', 'day', 'time'],\n",
    "values='total_bill', color= 'sex')\n",
    "\n",
    "# show plot\n",
    "fig.show()"
   ]
  },
  {
   "cell_type": "code",
   "execution_count": 43,
   "metadata": {},
   "outputs": [
    {
     "name": "stderr",
     "output_type": "stream",
     "text": [
      "c:\\Users\\Tariq\\anaconda3\\envs\\python_eda\\Lib\\site-packages\\plotly\\express\\_core.py:1699: FutureWarning:\n",
      "\n",
      "The default of observed=False is deprecated and will be changed to True in a future version of pandas. Pass observed=False to retain current behavior or observed=True to adopt the future default and silence this warning.\n",
      "\n",
      "c:\\Users\\Tariq\\anaconda3\\envs\\python_eda\\Lib\\site-packages\\plotly\\express\\_core.py:1699: FutureWarning:\n",
      "\n",
      "The default of observed=False is deprecated and will be changed to True in a future version of pandas. Pass observed=False to retain current behavior or observed=True to adopt the future default and silence this warning.\n",
      "\n",
      "c:\\Users\\Tariq\\anaconda3\\envs\\python_eda\\Lib\\site-packages\\plotly\\express\\_core.py:1699: FutureWarning:\n",
      "\n",
      "The default of observed=False is deprecated and will be changed to True in a future version of pandas. Pass observed=False to retain current behavior or observed=True to adopt the future default and silence this warning.\n",
      "\n",
      "c:\\Users\\Tariq\\anaconda3\\envs\\python_eda\\Lib\\site-packages\\plotly\\express\\_core.py:1699: FutureWarning:\n",
      "\n",
      "The default of observed=False is deprecated and will be changed to True in a future version of pandas. Pass observed=False to retain current behavior or observed=True to adopt the future default and silence this warning.\n",
      "\n"
     ]
    },
    {
     "data": {
      "application/vnd.plotly.v1+json": {
       "config": {
        "plotlyServerURL": "https://plot.ly"
       },
       "data": [
        {
         "branchvalues": "total",
         "customdata": [
          [
           "Male"
          ],
          [
           "Female"
          ],
          [
           null
          ],
          [
           "Female"
          ],
          [
           null
          ],
          [
           "Female"
          ],
          [
           "Male"
          ],
          [
           null
          ],
          [
           null
          ],
          [
           "Male"
          ],
          [
           "Male"
          ],
          [
           "Female"
          ],
          [
           "Male"
          ],
          [
           "Female"
          ],
          [
           "Male"
          ],
          [
           "Male"
          ],
          [
           "Female"
          ],
          [
           "Male"
          ],
          [
           "Male"
          ],
          [
           "Female"
          ],
          [
           "Male"
          ],
          [
           "Female"
          ],
          [
           "Male"
          ],
          [
           "Female"
          ],
          [
           "Male"
          ],
          [
           "Female"
          ],
          [
           "Male"
          ],
          [
           "Female"
          ],
          [
           "Male"
          ],
          [
           "Female"
          ],
          [
           "Female"
          ],
          [
           "Male"
          ],
          [
           "Male"
          ],
          [
           "Female"
          ],
          [
           "Male"
          ],
          [
           "Female"
          ],
          [
           "Female"
          ],
          [
           null
          ],
          [
           "Female"
          ],
          [
           null
          ],
          [
           null
          ],
          [
           null
          ],
          [
           null
          ],
          [
           null
          ],
          [
           null
          ],
          [
           null
          ],
          [
           "Female"
          ],
          [
           "Male"
          ],
          [
           "Female"
          ],
          [
           "Male"
          ],
          [
           "Female"
          ],
          [
           "Female"
          ],
          [
           "Male"
          ],
          [
           "Female"
          ]
         ],
         "domain": {
          "x": [
           0,
           1
          ],
          "y": [
           0,
           1
          ]
         },
         "hovertemplate": "Day: %{label} <br> Tip: %{value:2f} <br>  Total Bill: %{parent} <br> Parcentage:  %{percentRoot:.2%}",
         "ids": [
          "Male/Yes/Thur/Lunch",
          "Female/Yes/Sun/Dinner",
          "Male/No/Sun/Lunch",
          "Female/Yes/Fri",
          "Female/No/Sat/Lunch",
          "Female/Yes/Fri/Dinner",
          "Male/No/Fri/Dinner",
          "Male/Yes/Thur/Dinner",
          "Male/No/Thur/Dinner",
          "Male",
          "Male/Yes/Fri/Lunch",
          "Female/Yes/Thur",
          "Male/Yes/Thur",
          "Female/No",
          "Male/No/Thur",
          "Male/No/Fri",
          "Female/No/Thur",
          "Male/Yes/Fri",
          "Male/Yes/Sat",
          "Female/Yes/Sat",
          "Male/No/Sat",
          "Female/No/Sat",
          "Male/Yes/Sun",
          "Female/Yes/Sun",
          "Male/No/Sun",
          "Female/No/Sun",
          "Male/Yes",
          "Female/Yes",
          "Male/No",
          "Female/No/Fri",
          "Female/No/Sun/Dinner",
          "Male/No/Sat/Dinner",
          "Male/Yes/Sun/Dinner",
          "Female/Yes/Thur/Lunch",
          "Male/No/Thur/Lunch",
          "Female/No/Thur/Lunch",
          "Female/Yes/Fri/Lunch",
          "Male/No/Fri/Lunch",
          "Female/No/Fri/Lunch",
          "Male/Yes/Sat/Lunch",
          "Female/Yes/Sat/Lunch",
          "Male/No/Sat/Lunch",
          "Male/Yes/Sun/Lunch",
          "Female/Yes/Sun/Lunch",
          "Female/No/Sun/Lunch",
          "Female/Yes/Thur/Dinner",
          "Female/No/Thur/Dinner",
          "Male/Yes/Fri/Dinner",
          "Female/No/Fri/Dinner",
          "Male/Yes/Sat/Dinner",
          "Female/Yes/Sat/Dinner",
          "Female/No/Sat/Dinner",
          "Male/No/Sun/Dinner",
          "Female"
         ],
         "labels": [
          "Lunch",
          "Dinner",
          "Lunch",
          "Fri",
          "Lunch",
          "Dinner",
          "Dinner",
          "Dinner",
          "Dinner",
          "Male",
          "Lunch",
          "Thur",
          "Thur",
          "No",
          "Thur",
          "Fri",
          "Thur",
          "Fri",
          "Sat",
          "Sat",
          "Sat",
          "Sat",
          "Sun",
          "Sun",
          "Sun",
          "Sun",
          "Yes",
          "Yes",
          "No",
          "Fri",
          "Dinner",
          "Dinner",
          "Dinner",
          "Lunch",
          "Lunch",
          "Lunch",
          "Lunch",
          "Lunch",
          "Lunch",
          "Lunch",
          "Lunch",
          "Lunch",
          "Lunch",
          "Lunch",
          "Lunch",
          "Dinner",
          "Dinner",
          "Dinner",
          "Dinner",
          "Dinner",
          "Dinner",
          "Dinner",
          "Dinner",
          "Female"
         ],
         "marker": {
          "colors": [
           "#636efa",
           "#EF553B",
           "#00cc96",
           "#EF553B",
           "#00cc96",
           "#EF553B",
           "#636efa",
           "#00cc96",
           "#00cc96",
           "#636efa",
           "#636efa",
           "#EF553B",
           "#636efa",
           "#EF553B",
           "#636efa",
           "#636efa",
           "#EF553B",
           "#636efa",
           "#636efa",
           "#EF553B",
           "#636efa",
           "#EF553B",
           "#636efa",
           "#EF553B",
           "#636efa",
           "#EF553B",
           "#636efa",
           "#EF553B",
           "#636efa",
           "#EF553B",
           "#EF553B",
           "#636efa",
           "#636efa",
           "#EF553B",
           "#636efa",
           "#EF553B",
           "#EF553B",
           "#00cc96",
           "#EF553B",
           "#00cc96",
           "#00cc96",
           "#00cc96",
           "#00cc96",
           "#00cc96",
           "#00cc96",
           "#00cc96",
           "#EF553B",
           "#636efa",
           "#EF553B",
           "#636efa",
           "#EF553B",
           "#EF553B",
           "#636efa",
           "#EF553B"
          ]
         },
         "name": "",
         "parents": [
          "Male/Yes/Thur",
          "Female/Yes/Sun",
          "Male/No/Sun",
          "Female/Yes",
          "Female/No/Sat",
          "Female/Yes/Fri",
          "Male/No/Fri",
          "Male/Yes/Thur",
          "Male/No/Thur",
          "",
          "Male/Yes/Fri",
          "Female/Yes",
          "Male/Yes",
          "Female",
          "Male/No",
          "Male/No",
          "Female/No",
          "Male/Yes",
          "Male/Yes",
          "Female/Yes",
          "Male/No",
          "Female/No",
          "Male/Yes",
          "Female/Yes",
          "Male/No",
          "Female/No",
          "Male",
          "Female",
          "Male",
          "Female/No",
          "Female/No/Sun",
          "Male/No/Sat",
          "Male/Yes/Sun",
          "Female/Yes/Thur",
          "Male/No/Thur",
          "Female/No/Thur",
          "Female/Yes/Fri",
          "Male/No/Fri",
          "Female/No/Fri",
          "Male/Yes/Sat",
          "Female/Yes/Sat",
          "Male/No/Sat",
          "Male/Yes/Sun",
          "Female/Yes/Sun",
          "Female/No/Sun",
          "Female/Yes/Thur",
          "Female/No/Thur",
          "Male/Yes/Fri",
          "Female/No/Fri",
          "Male/Yes/Sat",
          "Female/Yes/Sat",
          "Female/No/Sat",
          "Male/No/Sun",
          ""
         ],
         "type": "sunburst",
         "values": [
          30.58,
          14,
          0,
          18.78,
          0,
          10.8,
          5,
          0,
          0,
          485.07,
          5.7,
          20.93,
          30.58,
          149.77,
          58.83,
          5,
          61.49,
          21.93,
          77.74,
          43.03,
          104.21000000000001,
          35.42,
          52.82,
          14,
          133.96,
          46.61,
          183.07,
          96.74,
          302,
          6.25,
          46.61,
          104.21000000000001,
          52.82,
          20.93,
          58.83,
          58.49,
          7.98,
          0,
          3,
          0,
          0,
          0,
          0,
          0,
          0,
          0,
          3,
          16.23,
          3.25,
          77.74,
          43.03,
          35.42,
          133.96,
          246.51
         ]
        }
       ],
       "layout": {
        "legend": {
         "tracegroupgap": 0
        },
        "margin": {
         "t": 60
        },
        "template": {
         "data": {
          "bar": [
           {
            "error_x": {
             "color": "#2a3f5f"
            },
            "error_y": {
             "color": "#2a3f5f"
            },
            "marker": {
             "line": {
              "color": "#E5ECF6",
              "width": 0.5
             },
             "pattern": {
              "fillmode": "overlay",
              "size": 10,
              "solidity": 0.2
             }
            },
            "type": "bar"
           }
          ],
          "barpolar": [
           {
            "marker": {
             "line": {
              "color": "#E5ECF6",
              "width": 0.5
             },
             "pattern": {
              "fillmode": "overlay",
              "size": 10,
              "solidity": 0.2
             }
            },
            "type": "barpolar"
           }
          ],
          "carpet": [
           {
            "aaxis": {
             "endlinecolor": "#2a3f5f",
             "gridcolor": "white",
             "linecolor": "white",
             "minorgridcolor": "white",
             "startlinecolor": "#2a3f5f"
            },
            "baxis": {
             "endlinecolor": "#2a3f5f",
             "gridcolor": "white",
             "linecolor": "white",
             "minorgridcolor": "white",
             "startlinecolor": "#2a3f5f"
            },
            "type": "carpet"
           }
          ],
          "choropleth": [
           {
            "colorbar": {
             "outlinewidth": 0,
             "ticks": ""
            },
            "type": "choropleth"
           }
          ],
          "contour": [
           {
            "colorbar": {
             "outlinewidth": 0,
             "ticks": ""
            },
            "colorscale": [
             [
              0,
              "#0d0887"
             ],
             [
              0.1111111111111111,
              "#46039f"
             ],
             [
              0.2222222222222222,
              "#7201a8"
             ],
             [
              0.3333333333333333,
              "#9c179e"
             ],
             [
              0.4444444444444444,
              "#bd3786"
             ],
             [
              0.5555555555555556,
              "#d8576b"
             ],
             [
              0.6666666666666666,
              "#ed7953"
             ],
             [
              0.7777777777777778,
              "#fb9f3a"
             ],
             [
              0.8888888888888888,
              "#fdca26"
             ],
             [
              1,
              "#f0f921"
             ]
            ],
            "type": "contour"
           }
          ],
          "contourcarpet": [
           {
            "colorbar": {
             "outlinewidth": 0,
             "ticks": ""
            },
            "type": "contourcarpet"
           }
          ],
          "heatmap": [
           {
            "colorbar": {
             "outlinewidth": 0,
             "ticks": ""
            },
            "colorscale": [
             [
              0,
              "#0d0887"
             ],
             [
              0.1111111111111111,
              "#46039f"
             ],
             [
              0.2222222222222222,
              "#7201a8"
             ],
             [
              0.3333333333333333,
              "#9c179e"
             ],
             [
              0.4444444444444444,
              "#bd3786"
             ],
             [
              0.5555555555555556,
              "#d8576b"
             ],
             [
              0.6666666666666666,
              "#ed7953"
             ],
             [
              0.7777777777777778,
              "#fb9f3a"
             ],
             [
              0.8888888888888888,
              "#fdca26"
             ],
             [
              1,
              "#f0f921"
             ]
            ],
            "type": "heatmap"
           }
          ],
          "heatmapgl": [
           {
            "colorbar": {
             "outlinewidth": 0,
             "ticks": ""
            },
            "colorscale": [
             [
              0,
              "#0d0887"
             ],
             [
              0.1111111111111111,
              "#46039f"
             ],
             [
              0.2222222222222222,
              "#7201a8"
             ],
             [
              0.3333333333333333,
              "#9c179e"
             ],
             [
              0.4444444444444444,
              "#bd3786"
             ],
             [
              0.5555555555555556,
              "#d8576b"
             ],
             [
              0.6666666666666666,
              "#ed7953"
             ],
             [
              0.7777777777777778,
              "#fb9f3a"
             ],
             [
              0.8888888888888888,
              "#fdca26"
             ],
             [
              1,
              "#f0f921"
             ]
            ],
            "type": "heatmapgl"
           }
          ],
          "histogram": [
           {
            "marker": {
             "pattern": {
              "fillmode": "overlay",
              "size": 10,
              "solidity": 0.2
             }
            },
            "type": "histogram"
           }
          ],
          "histogram2d": [
           {
            "colorbar": {
             "outlinewidth": 0,
             "ticks": ""
            },
            "colorscale": [
             [
              0,
              "#0d0887"
             ],
             [
              0.1111111111111111,
              "#46039f"
             ],
             [
              0.2222222222222222,
              "#7201a8"
             ],
             [
              0.3333333333333333,
              "#9c179e"
             ],
             [
              0.4444444444444444,
              "#bd3786"
             ],
             [
              0.5555555555555556,
              "#d8576b"
             ],
             [
              0.6666666666666666,
              "#ed7953"
             ],
             [
              0.7777777777777778,
              "#fb9f3a"
             ],
             [
              0.8888888888888888,
              "#fdca26"
             ],
             [
              1,
              "#f0f921"
             ]
            ],
            "type": "histogram2d"
           }
          ],
          "histogram2dcontour": [
           {
            "colorbar": {
             "outlinewidth": 0,
             "ticks": ""
            },
            "colorscale": [
             [
              0,
              "#0d0887"
             ],
             [
              0.1111111111111111,
              "#46039f"
             ],
             [
              0.2222222222222222,
              "#7201a8"
             ],
             [
              0.3333333333333333,
              "#9c179e"
             ],
             [
              0.4444444444444444,
              "#bd3786"
             ],
             [
              0.5555555555555556,
              "#d8576b"
             ],
             [
              0.6666666666666666,
              "#ed7953"
             ],
             [
              0.7777777777777778,
              "#fb9f3a"
             ],
             [
              0.8888888888888888,
              "#fdca26"
             ],
             [
              1,
              "#f0f921"
             ]
            ],
            "type": "histogram2dcontour"
           }
          ],
          "mesh3d": [
           {
            "colorbar": {
             "outlinewidth": 0,
             "ticks": ""
            },
            "type": "mesh3d"
           }
          ],
          "parcoords": [
           {
            "line": {
             "colorbar": {
              "outlinewidth": 0,
              "ticks": ""
             }
            },
            "type": "parcoords"
           }
          ],
          "pie": [
           {
            "automargin": true,
            "type": "pie"
           }
          ],
          "scatter": [
           {
            "fillpattern": {
             "fillmode": "overlay",
             "size": 10,
             "solidity": 0.2
            },
            "type": "scatter"
           }
          ],
          "scatter3d": [
           {
            "line": {
             "colorbar": {
              "outlinewidth": 0,
              "ticks": ""
             }
            },
            "marker": {
             "colorbar": {
              "outlinewidth": 0,
              "ticks": ""
             }
            },
            "type": "scatter3d"
           }
          ],
          "scattercarpet": [
           {
            "marker": {
             "colorbar": {
              "outlinewidth": 0,
              "ticks": ""
             }
            },
            "type": "scattercarpet"
           }
          ],
          "scattergeo": [
           {
            "marker": {
             "colorbar": {
              "outlinewidth": 0,
              "ticks": ""
             }
            },
            "type": "scattergeo"
           }
          ],
          "scattergl": [
           {
            "marker": {
             "colorbar": {
              "outlinewidth": 0,
              "ticks": ""
             }
            },
            "type": "scattergl"
           }
          ],
          "scattermapbox": [
           {
            "marker": {
             "colorbar": {
              "outlinewidth": 0,
              "ticks": ""
             }
            },
            "type": "scattermapbox"
           }
          ],
          "scatterpolar": [
           {
            "marker": {
             "colorbar": {
              "outlinewidth": 0,
              "ticks": ""
             }
            },
            "type": "scatterpolar"
           }
          ],
          "scatterpolargl": [
           {
            "marker": {
             "colorbar": {
              "outlinewidth": 0,
              "ticks": ""
             }
            },
            "type": "scatterpolargl"
           }
          ],
          "scatterternary": [
           {
            "marker": {
             "colorbar": {
              "outlinewidth": 0,
              "ticks": ""
             }
            },
            "type": "scatterternary"
           }
          ],
          "surface": [
           {
            "colorbar": {
             "outlinewidth": 0,
             "ticks": ""
            },
            "colorscale": [
             [
              0,
              "#0d0887"
             ],
             [
              0.1111111111111111,
              "#46039f"
             ],
             [
              0.2222222222222222,
              "#7201a8"
             ],
             [
              0.3333333333333333,
              "#9c179e"
             ],
             [
              0.4444444444444444,
              "#bd3786"
             ],
             [
              0.5555555555555556,
              "#d8576b"
             ],
             [
              0.6666666666666666,
              "#ed7953"
             ],
             [
              0.7777777777777778,
              "#fb9f3a"
             ],
             [
              0.8888888888888888,
              "#fdca26"
             ],
             [
              1,
              "#f0f921"
             ]
            ],
            "type": "surface"
           }
          ],
          "table": [
           {
            "cells": {
             "fill": {
              "color": "#EBF0F8"
             },
             "line": {
              "color": "white"
             }
            },
            "header": {
             "fill": {
              "color": "#C8D4E3"
             },
             "line": {
              "color": "white"
             }
            },
            "type": "table"
           }
          ]
         },
         "layout": {
          "annotationdefaults": {
           "arrowcolor": "#2a3f5f",
           "arrowhead": 0,
           "arrowwidth": 1
          },
          "autotypenumbers": "strict",
          "coloraxis": {
           "colorbar": {
            "outlinewidth": 0,
            "ticks": ""
           }
          },
          "colorscale": {
           "diverging": [
            [
             0,
             "#8e0152"
            ],
            [
             0.1,
             "#c51b7d"
            ],
            [
             0.2,
             "#de77ae"
            ],
            [
             0.3,
             "#f1b6da"
            ],
            [
             0.4,
             "#fde0ef"
            ],
            [
             0.5,
             "#f7f7f7"
            ],
            [
             0.6,
             "#e6f5d0"
            ],
            [
             0.7,
             "#b8e186"
            ],
            [
             0.8,
             "#7fbc41"
            ],
            [
             0.9,
             "#4d9221"
            ],
            [
             1,
             "#276419"
            ]
           ],
           "sequential": [
            [
             0,
             "#0d0887"
            ],
            [
             0.1111111111111111,
             "#46039f"
            ],
            [
             0.2222222222222222,
             "#7201a8"
            ],
            [
             0.3333333333333333,
             "#9c179e"
            ],
            [
             0.4444444444444444,
             "#bd3786"
            ],
            [
             0.5555555555555556,
             "#d8576b"
            ],
            [
             0.6666666666666666,
             "#ed7953"
            ],
            [
             0.7777777777777778,
             "#fb9f3a"
            ],
            [
             0.8888888888888888,
             "#fdca26"
            ],
            [
             1,
             "#f0f921"
            ]
           ],
           "sequentialminus": [
            [
             0,
             "#0d0887"
            ],
            [
             0.1111111111111111,
             "#46039f"
            ],
            [
             0.2222222222222222,
             "#7201a8"
            ],
            [
             0.3333333333333333,
             "#9c179e"
            ],
            [
             0.4444444444444444,
             "#bd3786"
            ],
            [
             0.5555555555555556,
             "#d8576b"
            ],
            [
             0.6666666666666666,
             "#ed7953"
            ],
            [
             0.7777777777777778,
             "#fb9f3a"
            ],
            [
             0.8888888888888888,
             "#fdca26"
            ],
            [
             1,
             "#f0f921"
            ]
           ]
          },
          "colorway": [
           "#636efa",
           "#EF553B",
           "#00cc96",
           "#ab63fa",
           "#FFA15A",
           "#19d3f3",
           "#FF6692",
           "#B6E880",
           "#FF97FF",
           "#FECB52"
          ],
          "font": {
           "color": "#2a3f5f"
          },
          "geo": {
           "bgcolor": "white",
           "lakecolor": "white",
           "landcolor": "#E5ECF6",
           "showlakes": true,
           "showland": true,
           "subunitcolor": "white"
          },
          "hoverlabel": {
           "align": "left"
          },
          "hovermode": "closest",
          "mapbox": {
           "style": "light"
          },
          "paper_bgcolor": "white",
          "plot_bgcolor": "#E5ECF6",
          "polar": {
           "angularaxis": {
            "gridcolor": "white",
            "linecolor": "white",
            "ticks": ""
           },
           "bgcolor": "#E5ECF6",
           "radialaxis": {
            "gridcolor": "white",
            "linecolor": "white",
            "ticks": ""
           }
          },
          "scene": {
           "xaxis": {
            "backgroundcolor": "#E5ECF6",
            "gridcolor": "white",
            "gridwidth": 2,
            "linecolor": "white",
            "showbackground": true,
            "ticks": "",
            "zerolinecolor": "white"
           },
           "yaxis": {
            "backgroundcolor": "#E5ECF6",
            "gridcolor": "white",
            "gridwidth": 2,
            "linecolor": "white",
            "showbackground": true,
            "ticks": "",
            "zerolinecolor": "white"
           },
           "zaxis": {
            "backgroundcolor": "#E5ECF6",
            "gridcolor": "white",
            "gridwidth": 2,
            "linecolor": "white",
            "showbackground": true,
            "ticks": "",
            "zerolinecolor": "white"
           }
          },
          "shapedefaults": {
           "line": {
            "color": "#2a3f5f"
           }
          },
          "ternary": {
           "aaxis": {
            "gridcolor": "white",
            "linecolor": "white",
            "ticks": ""
           },
           "baxis": {
            "gridcolor": "white",
            "linecolor": "white",
            "ticks": ""
           },
           "bgcolor": "#E5ECF6",
           "caxis": {
            "gridcolor": "white",
            "linecolor": "white",
            "ticks": ""
           }
          },
          "title": {
           "x": 0.05
          },
          "xaxis": {
           "automargin": true,
           "gridcolor": "white",
           "linecolor": "white",
           "ticks": "",
           "title": {
            "standoff": 15
           },
           "zerolinecolor": "white",
           "zerolinewidth": 2
          },
          "yaxis": {
           "automargin": true,
           "gridcolor": "white",
           "linecolor": "white",
           "ticks": "",
           "title": {
            "standoff": 15
           },
           "zerolinecolor": "white",
           "zerolinewidth": 2
          }
         }
        }
       }
      }
     },
     "metadata": {},
     "output_type": "display_data"
    }
   ],
   "source": [
    "# create sunburst plot\n",
    "fig = px.sunburst(tips, \n",
    "path = ['sex', 'smoker', 'day', 'time'],\n",
    "values='tip', color= 'sex')\n",
    "\n",
    "# how can we add more values when we hover the pointer on the plot?\n",
    "fig.update_traces(hovertemplate=  'Day: %{label} <br> Tip: %{value:2f} <br>  Total Bill: %{parent} <br> \\\n",
    "Parcentage:  %{percentRoot:.2%}')\n",
    "# show plot\n",
    "fig.show()"
   ]
  }
 ],
 "metadata": {
  "kernelspec": {
   "display_name": "python_eda",
   "language": "python",
   "name": "python3"
  },
  "language_info": {
   "codemirror_mode": {
    "name": "ipython",
    "version": 3
   },
   "file_extension": ".py",
   "mimetype": "text/x-python",
   "name": "python",
   "nbconvert_exporter": "python",
   "pygments_lexer": "ipython3",
   "version": "3.11.0"
  }
 },
 "nbformat": 4,
 "nbformat_minor": 2
}
