{
 "cells": [
  {
   "cell_type": "markdown",
   "metadata": {},
   "source": [
    "# Automate EDA using ``ydata-profiling``"
   ]
  },
  {
   "cell_type": "code",
   "execution_count": 1,
   "metadata": {},
   "outputs": [
    {
     "name": "stderr",
     "output_type": "stream",
     "text": [
      "c:\\Users\\Tariq\\anaconda3\\envs\\ydata_profiling\\lib\\site-packages\\tqdm\\auto.py:21: TqdmWarning: IProgress not found. Please update jupyter and ipywidgets. See https://ipywidgets.readthedocs.io/en/stable/user_install.html\n",
      "  from .autonotebook import tqdm as notebook_tqdm\n"
     ]
    }
   ],
   "source": [
    "#  import libraries\n",
    "import pandas as pd\n",
    "import seaborn as sns\n",
    "import ydata_profiling as ydp"
   ]
  },
  {
   "cell_type": "code",
   "execution_count": 2,
   "metadata": {},
   "outputs": [],
   "source": [
    "#  import data from seaborn\n",
    "df = sns.load_dataset('titanic')"
   ]
  },
  {
   "cell_type": "code",
   "execution_count": 4,
   "metadata": {},
   "outputs": [
    {
     "name": "stderr",
     "output_type": "stream",
     "text": [
      "Summarize dataset:   0%|          | 0/5 [00:00<?, ?it/s]"
     ]
    },
    {
     "name": "stderr",
     "output_type": "stream",
     "text": [
      "Summarize dataset: 100%|██████████| 41/41 [00:33<00:00,  1.22it/s, Completed]                    \n",
      "Generate report structure: 100%|██████████| 1/1 [00:48<00:00, 48.64s/it]\n",
      "Render HTML: 100%|██████████| 1/1 [00:15<00:00, 15.64s/it]\n",
      "Export report to file: 100%|██████████| 1/1 [00:00<00:00, 52.64it/s]\n"
     ]
    }
   ],
   "source": [
    "# ydata profile report\n",
    "profile=ydp.ProfileReport(df) # create report object from ydata profile report library \n",
    "profile.to_file(output_file=\"./outputs/ydata_titanic.html\") "
   ]
  },
  {
   "cell_type": "markdown",
   "metadata": {},
   "source": [
    "# Do it on our Pakistan Population Dataset"
   ]
  },
  {
   "cell_type": "code",
   "execution_count": 13,
   "metadata": {},
   "outputs": [],
   "source": [
    "df_pop = pd.read_csv(r'C:\\Users\\Tariq\\Desktop\\vscode_environmnets\\Data-Science-AI-with-Codanics\\pandas_tips_tricks\\data\\population_pakistan.csv', encoding='latin1') # read data from csv file\n"
   ]
  },
  {
   "cell_type": "code",
   "execution_count": 14,
   "metadata": {},
   "outputs": [
    {
     "name": "stderr",
     "output_type": "stream",
     "text": [
      "Summarize dataset: 100%|██████████| 319/319 [06:07<00:00,  1.15s/it, Completed]                                                     \n",
      "Generate report structure: 100%|██████████| 1/1 [01:44<00:00, 104.25s/it]\n",
      "Render HTML: 100%|██████████| 1/1 [01:47<00:00, 107.19s/it]\n",
      "Export report to file: 100%|██████████| 1/1 [00:00<00:00,  3.00it/s]\n"
     ]
    }
   ],
   "source": [
    "#  ydata profile report\n",
    "profile=ydp.ProfileReport(df_pop) # create report object from ydata profile report library\n",
    "profile.to_file(output_file='./outputs/ydata_pak_population.html') # save report to html file in outputs folder"
   ]
  },
  {
   "cell_type": "code",
   "execution_count": null,
   "metadata": {},
   "outputs": [],
   "source": []
  }
 ],
 "metadata": {
  "kernelspec": {
   "display_name": "ydata_profiling",
   "language": "python",
   "name": "python3"
  },
  "language_info": {
   "codemirror_mode": {
    "name": "ipython",
    "version": 3
   },
   "file_extension": ".py",
   "mimetype": "text/x-python",
   "name": "python",
   "nbconvert_exporter": "python",
   "pygments_lexer": "ipython3",
   "version": "3.10.0"
  }
 },
 "nbformat": 4,
 "nbformat_minor": 2
}
